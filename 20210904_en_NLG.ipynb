{
 "cells": [
  {
   "cell_type": "code",
   "execution_count": 1,
   "metadata": {},
   "outputs": [
    {
     "name": "stdout",
     "output_type": "stream",
     "text": [
      "1 Physical GPUs, 1 Logical GPUs\n",
      "Version:  2.5.0\n",
      "Eager mode:  True\n",
      "GPU is available\n"
     ]
    }
   ],
   "source": [
    "import os\n",
    "import numpy as np\n",
    "import pandas as pd\n",
    "import pickle\n",
    "import json\n",
    "\n",
    "import tensorflow as tf\n",
    "from tensorflow.keras.models import Model\n",
    "from tensorflow.keras.layers import Input, Dense, LSTM, Embedding, Activation, MultiHeadAttention\n",
    "from tensorflow.keras.layers import LayerNormalization\n",
    "from tensorflow.keras.optimizers import Adam\n",
    "from tensorflow.keras.callbacks import ModelCheckpoint, EarlyStopping, CSVLogger\n",
    "from tensorflow.keras.datasets import imdb\n",
    "from tensorflow.keras.preprocessing import sequence\n",
    "\n",
    "os.environ['CUDA_VISIBLE_DEVICES']='1'\n",
    "tf.config.set_soft_device_placement(True)\n",
    "gpus = tf.config.experimental.list_physical_devices('GPU')\n",
    "if gpus:\n",
    "    try:\n",
    "        # Restrict TensorFlow to only use the fourth GPU\n",
    "        tf.config.experimental.set_visible_devices(gpus[0], 'GPU')\n",
    "        # Currently, memory growth needs to be the same across GPUs\n",
    "        for gpu in gpus:\n",
    "            tf.config.experimental.set_memory_growth(gpu, True)\n",
    "        logical_gpus = tf.config.experimental.list_logical_devices('GPU')\n",
    "        print(len(gpus), \"Physical GPUs,\", len(logical_gpus), \"Logical GPUs\")\n",
    "    except RuntimeError as e:\n",
    "        # Memory growth must be set before GPUs have been initialized\n",
    "        print(e)\n",
    "\n",
    "print(\"Version: \", tf.__version__)\n",
    "print(\"Eager mode: \", tf.executing_eagerly())\n",
    "print(\"GPU is\", \"available\" if tf.config.list_physical_devices(\"GPU\") else \"NOT AVAILABLE\")"
   ]
  },
  {
   "cell_type": "markdown",
   "metadata": {},
   "source": [
    "# Constants"
   ]
  },
  {
   "cell_type": "code",
   "execution_count": 2,
   "metadata": {},
   "outputs": [],
   "source": [
    "folder_name = '20210904_en_NLG'\n",
    "wv_dim = 32\n",
    "que_pad = 300\n",
    "num_words = 10000"
   ]
  },
  {
   "cell_type": "markdown",
   "metadata": {},
   "source": [
    "# Load data"
   ]
  },
  {
   "cell_type": "code",
   "execution_count": 3,
   "metadata": {},
   "outputs": [
    {
     "name": "stderr",
     "output_type": "stream",
     "text": [
      "<string>:6: VisibleDeprecationWarning: Creating an ndarray from ragged nested sequences (which is a list-or-tuple of lists-or-tuples-or ndarrays with different lengths or shapes) is deprecated. If you meant to do this, you must specify 'dtype=object' when creating the ndarray\n"
     ]
    },
    {
     "name": "stdout",
     "output_type": "stream",
     "text": [
      "25000\n",
      "2500\n"
     ]
    },
    {
     "name": "stderr",
     "output_type": "stream",
     "text": [
      "/home/ai-lab/anaconda3/lib/python3.7/site-packages/tensorflow/python/keras/datasets/imdb.py:155: VisibleDeprecationWarning: Creating an ndarray from ragged nested sequences (which is a list-or-tuple of lists-or-tuples-or ndarrays with different lengths or shapes) is deprecated. If you meant to do this, you must specify 'dtype=object' when creating the ndarray\n",
      "  x_train, y_train = np.array(xs[:idx]), np.array(labels[:idx])\n",
      "/home/ai-lab/anaconda3/lib/python3.7/site-packages/tensorflow/python/keras/datasets/imdb.py:156: VisibleDeprecationWarning: Creating an ndarray from ragged nested sequences (which is a list-or-tuple of lists-or-tuples-or ndarrays with different lengths or shapes) is deprecated. If you meant to do this, you must specify 'dtype=object' when creating the ndarray\n",
      "  x_test, y_test = np.array(xs[idx:]), np.array(labels[idx:])\n"
     ]
    }
   ],
   "source": [
    "(text_train, class_train), (text_vali, class_vali) = imdb.load_data(\n",
    "    num_words = num_words-2,\n",
    ")\n",
    "text_vali = text_vali[:2500]\n",
    "print(len(text_train))\n",
    "print(len(text_vali))"
   ]
  },
  {
   "cell_type": "markdown",
   "metadata": {},
   "source": [
    "# Add BOS and EOS"
   ]
  },
  {
   "cell_type": "code",
   "execution_count": 4,
   "metadata": {},
   "outputs": [],
   "source": [
    "# Index num_words -2 = BOS\n",
    "# Index num_words -1 = EOS\n",
    "null = [s.insert(0,num_words-2) for s in text_train]\n",
    "null = [s.append(num_words-1) for s in text_train]\n",
    "null = [s.insert(0,num_words-2) for s in text_vali]\n",
    "null = [s.append(num_words-1) for s in text_vali]"
   ]
  },
  {
   "cell_type": "markdown",
   "metadata": {},
   "source": [
    "# Padding"
   ]
  },
  {
   "cell_type": "code",
   "execution_count": 5,
   "metadata": {},
   "outputs": [
    {
     "name": "stdout",
     "output_type": "stream",
     "text": [
      "decoder_train shape:(25000, 300)\n",
      "teacher_train shape:(25000, 300)\n",
      "decoder_vali shape:(2500, 300)\n",
      "teacher_vali shape:(2500, 300)\n"
     ]
    }
   ],
   "source": [
    "# Data padding for training\n",
    "decoder_train = sequence.pad_sequences(\n",
    "    text_train,\n",
    "    maxlen = que_pad,\n",
    "    padding = 'post',\n",
    ")\n",
    "teacher_train = decoder_train[:,1:]\n",
    "teacher_train = sequence.pad_sequences(\n",
    "    teacher_train,\n",
    "    maxlen = que_pad,\n",
    "    padding = 'post',\n",
    ")\n",
    "# Data padding for valiation\n",
    "decoder_vali = sequence.pad_sequences(\n",
    "    text_vali,\n",
    "    maxlen = que_pad,\n",
    "    padding = 'post',\n",
    ")\n",
    "teacher_vali = decoder_vali[:,1:]\n",
    "teacher_vali = sequence.pad_sequences(\n",
    "    teacher_vali,\n",
    "    maxlen = que_pad,\n",
    "    padding = 'post',\n",
    ")\n",
    "print(f'decoder_train shape:{decoder_train.shape}')\n",
    "print(f'teacher_train shape:{teacher_train.shape}')\n",
    "print(f'decoder_vali shape:{decoder_vali.shape}')\n",
    "print(f'teacher_vali shape:{teacher_vali.shape}')\n"
   ]
  },
  {
   "cell_type": "code",
   "execution_count": 6,
   "metadata": {},
   "outputs": [
    {
     "name": "stdout",
     "output_type": "stream",
     "text": [
      "[[9998    1   14   22   16   43  530  973 1622 1385   65  458 4468   66\n",
      "  3941    4  173   36  256    5   25  100   43  838  112   50  670    2\n",
      "     9   35  480  284    5  150    4  172  112  167    2  336  385   39\n",
      "     4  172 4536 1111   17  546   38   13  447    4  192   50   16    6\n",
      "   147 2025   19   14   22    4 1920 4613  469    4   22   71   87   12\n",
      "    16   43  530   38   76   15   13 1247    4   22   17  515   17   12\n",
      "    16  626   18    2    5   62  386   12    8  316    8  106    5    4\n",
      "  2223 5244   16  480   66 3785   33    4  130   12   16   38  619    5\n",
      "    25  124   51   36  135   48   25 1415   33    6   22   12  215   28\n",
      "    77   52    5   14  407   16   82    2    8    4  107  117 5952   15\n",
      "   256    4    2    7 3766    5  723   36   71   43  530  476   26  400\n",
      "   317   46    7    4    2 1029   13  104   88    4  381   15  297   98\n",
      "    32 2071   56   26  141    6  194 7486   18    4  226   22   21  134\n",
      "   476   26  480    5  144   30 5535   18   51   36   28  224   92   25\n",
      "   104    4  226   65   16   38 1334   88   12   16  283    5   16 4472\n",
      "   113  103   32   15   16 5345   19  178   32 9999    0    0    0    0\n",
      "     0    0    0    0    0    0    0    0    0    0    0    0    0    0\n",
      "     0    0    0    0    0    0    0    0    0    0    0    0    0    0\n",
      "     0    0    0    0    0    0    0    0    0    0    0    0    0    0\n",
      "     0    0    0    0    0    0    0    0    0    0    0    0    0    0\n",
      "     0    0    0    0    0    0    0    0    0    0    0    0    0    0\n",
      "     0    0    0    0    0    0]]\n",
      "[[   1   14   22   16   43  530  973 1622 1385   65  458 4468   66 3941\n",
      "     4  173   36  256    5   25  100   43  838  112   50  670    2    9\n",
      "    35  480  284    5  150    4  172  112  167    2  336  385   39    4\n",
      "   172 4536 1111   17  546   38   13  447    4  192   50   16    6  147\n",
      "  2025   19   14   22    4 1920 4613  469    4   22   71   87   12   16\n",
      "    43  530   38   76   15   13 1247    4   22   17  515   17   12   16\n",
      "   626   18    2    5   62  386   12    8  316    8  106    5    4 2223\n",
      "  5244   16  480   66 3785   33    4  130   12   16   38  619    5   25\n",
      "   124   51   36  135   48   25 1415   33    6   22   12  215   28   77\n",
      "    52    5   14  407   16   82    2    8    4  107  117 5952   15  256\n",
      "     4    2    7 3766    5  723   36   71   43  530  476   26  400  317\n",
      "    46    7    4    2 1029   13  104   88    4  381   15  297   98   32\n",
      "  2071   56   26  141    6  194 7486   18    4  226   22   21  134  476\n",
      "    26  480    5  144   30 5535   18   51   36   28  224   92   25  104\n",
      "     4  226   65   16   38 1334   88   12   16  283    5   16 4472  113\n",
      "   103   32   15   16 5345   19  178   32 9999    0    0    0    0    0\n",
      "     0    0    0    0    0    0    0    0    0    0    0    0    0    0\n",
      "     0    0    0    0    0    0    0    0    0    0    0    0    0    0\n",
      "     0    0    0    0    0    0    0    0    0    0    0    0    0    0\n",
      "     0    0    0    0    0    0    0    0    0    0    0    0    0    0\n",
      "     0    0    0    0    0    0    0    0    0    0    0    0    0    0\n",
      "     0    0    0    0    0    0]]\n"
     ]
    }
   ],
   "source": [
    "print(decoder_train[:1])\n",
    "print(teacher_train[:1])"
   ]
  },
  {
   "cell_type": "markdown",
   "metadata": {},
   "source": [
    "# Positional Encoding\n",
    "[Positional Encoding](https://www.tensorflow.org/text/tutorials/transformer)\n",
    "based on [Vaswani+17, Attention is All You Need](https://arxiv.org/abs/1706.03762)"
   ]
  },
  {
   "cell_type": "code",
   "execution_count": 7,
   "metadata": {},
   "outputs": [],
   "source": [
    "def get_angles(pos, i, d_model):\n",
    "    angle_rates = 1 / np.power(10000, (2 * (i//2)) / np.float32(d_model))\n",
    "    return pos * angle_rates\n",
    "\n",
    "def positional_encoding(position, d_model):\n",
    "    angle_rads = get_angles(\n",
    "        np.arange(position)[:, np.newaxis],\n",
    "        np.arange(d_model)[np.newaxis, :],\n",
    "        d_model\n",
    "    )\n",
    "\n",
    "    # apply sin to even indices in the array; 2i\n",
    "    angle_rads[:, 0::2] = np.sin(angle_rads[:, 0::2])\n",
    "\n",
    "    # apply cos to odd indices in the array; 2i+1\n",
    "    angle_rads[:, 1::2] = np.cos(angle_rads[:, 1::2])\n",
    "\n",
    "    pos_encoding = angle_rads[np.newaxis, ...]\n",
    "\n",
    "    return tf.cast(pos_encoding, dtype=tf.float32)"
   ]
  },
  {
   "cell_type": "markdown",
   "metadata": {},
   "source": [
    "## Test positional encoding"
   ]
  },
  {
   "cell_type": "code",
   "execution_count": 8,
   "metadata": {},
   "outputs": [
    {
     "name": "stdout",
     "output_type": "stream",
     "text": [
      "(1, 10, 64)\n"
     ]
    },
    {
     "data": {
      "image/png": "[encoded data removed]",
      "text/plain": [
       "<Figure size 432x288 with 2 Axes>"
      ]
     },
     "metadata": {
      "needs_background": "light"
     },
     "output_type": "display_data"
    }
   ],
   "source": [
    "from matplotlib import pyplot as plt\n",
    "n, d = 10, 64\n",
    "pos_encoding = positional_encoding(n, d)\n",
    "print(pos_encoding.shape)\n",
    "pos_encoding = pos_encoding[0]\n",
    "\n",
    "# Juggle the dimensions for the plot\n",
    "pos_encoding = tf.reshape(pos_encoding, (n, d//2, 2))\n",
    "pos_encoding = tf.transpose(pos_encoding, (2, 1, 0))\n",
    "pos_encoding = tf.reshape(pos_encoding, (d, n))\n",
    "\n",
    "plt.pcolormesh(pos_encoding, cmap='RdBu')\n",
    "plt.ylabel('Depth')\n",
    "plt.xlabel('Position')\n",
    "plt.colorbar()\n",
    "plt.show()"
   ]
  },
  {
   "cell_type": "markdown",
   "metadata": {},
   "source": [
    "# Embedding"
   ]
  },
  {
   "cell_type": "code",
   "execution_count": 9,
   "metadata": {},
   "outputs": [],
   "source": [
    "def getEmb():\n",
    "    initializer = tf.keras.initializers.GlorotNormal()\n",
    "    mask_embedding = initializer(shape=(1, wv_dim)).numpy()\n",
    "    emb = Embedding(\n",
    "        num_words, \n",
    "        wv_dim, \n",
    "        mask_zero = False,\n",
    "        input_length=(int(que_pad)),\n",
    "        trainable = True,\n",
    "    )\n",
    "    return emb"
   ]
  },
  {
   "cell_type": "markdown",
   "metadata": {},
   "source": [
    "# Generator"
   ]
  },
  {
   "cell_type": "markdown",
   "metadata": {},
   "source": [
    "[OneHot relaxation](https://www.tensorflow.org/probability/api_docs/python/tfp/distributions/RelaxedOneHotCategorical)\n",
    "based on [Jang+16](https://arxiv.org/abs/1611.01144) and [Maddison+16](https://arxiv.org/abs/1611.00712) \n",
    "<br>\n",
    "[Multi-Head Attention](https://www.tensorflow.org/api_docs/python/tf/keras/layers/MultiHeadAttention) \n",
    "and [Positional Encoding](https://www.tensorflow.org/text/tutorials/transformer)\n",
    "based on [Vaswani+17, Attention is All You Need](https://arxiv.org/abs/1706.03762)"
   ]
  },
  {
   "cell_type": "code",
   "execution_count": 10,
   "metadata": {},
   "outputs": [],
   "source": [
    "def Transformer(que_pad, wv_dim, mask = None, rate = 0.1):\n",
    "    # Inputs\n",
    "    mem  = Input((que_pad, wv_dim))\n",
    "    # Constants\n",
    "    ff_dim = wv_dim*16\n",
    "    # Multi-Head Attention\n",
    "    # TODO: concatenation\n",
    "    q = Dense(wv_dim)(mem)\n",
    "    k = Dense(wv_dim)(mem)\n",
    "    v = Dense(wv_dim)(mem)\n",
    "    #print(mask)\n",
    "    mem_new = MultiHeadAttention(\n",
    "        num_heads = 4,\n",
    "        key_dim = wv_dim, \n",
    "        value_dim = wv_dim\n",
    "    )(\n",
    "        q, k, v,\n",
    "        attention_mask = mask,\n",
    "    )\n",
    "    #mem_new = Dropout(rate)(mem_new)\n",
    "    mem_new = LayerNormalization(epsilon=1e-6)(mem_new+mem)\n",
    "    # Feed-Forward skip-connection\n",
    "    ffn = Dense(ff_dim, activation = 'relu')(mem_new)\n",
    "    ffn = Dense(wv_dim)(ffn)\n",
    "    #ffn = Dropout(rate)(ffn)\n",
    "    out = LayerNormalization(epsilon=1e-6)(ffn+mem_new)\n",
    "    model = Model(\n",
    "        mem,\n",
    "        [mem_new, out]\n",
    "    )\n",
    "    return model\n",
    "\n",
    "# GPT downstream\n",
    "def getGPT(emb):\n",
    "    _input = Input((que_pad,))\n",
    "    mem = emb(_input)\n",
    "    # position encoding\n",
    "    pe = positional_encoding(que_pad, wv_dim)\n",
    "    mem = LayerNormalization(epsilon=1e-6)(mem+pe)\n",
    "    mask = np.tri(que_pad, que_pad, 0) # (q_dim, k_dim)\n",
    "    # forward sentence\n",
    "    for i in range(1):\n",
    "        tLayer = Transformer(que_pad, wv_dim, mask)\n",
    "        mem, output = tLayer((mem))\n",
    "        output = Activation('relu')(output)\n",
    "        mem = Activation('relu')(mem)\n",
    "    # Concatenation and output\n",
    "    output = Dense(num_words)(output)\n",
    "    output = Activation('softmax')(output)\n",
    "    model = Model(\n",
    "        _input, \n",
    "        output,\n",
    "        name = 'GPT'\n",
    "    ) \n",
    "    return model"
   ]
  },
  {
   "cell_type": "code",
   "execution_count": 11,
   "metadata": {},
   "outputs": [
    {
     "name": "stdout",
     "output_type": "stream",
     "text": [
      "Model: \"GPT\"\n",
      "_________________________________________________________________\n",
      "Layer (type)                 Output Shape              Param #   \n",
      "=================================================================\n",
      "input_1 (InputLayer)         [(None, 300)]             0         \n",
      "_________________________________________________________________\n",
      "embedding (Embedding)        (None, 300, 32)           320000    \n",
      "_________________________________________________________________\n",
      "tf.__operators__.add (TFOpLa (None, 300, 32)           0         \n",
      "_________________________________________________________________\n",
      "layer_normalization (LayerNo (None, 300, 32)           64        \n",
      "_________________________________________________________________\n",
      "model (Functional)           [(None, 300, 32), (None,  53408     \n",
      "_________________________________________________________________\n",
      "activation (Activation)      (None, 300, 32)           0         \n",
      "_________________________________________________________________\n",
      "dense_5 (Dense)              (None, 300, 10000)        330000    \n",
      "_________________________________________________________________\n",
      "activation_2 (Activation)    (None, 300, 10000)        0         \n",
      "=================================================================\n",
      "Total params: 703,472\n",
      "Trainable params: 703,472\n",
      "Non-trainable params: 0\n",
      "_________________________________________________________________\n"
     ]
    }
   ],
   "source": [
    "emb = getEmb()\n",
    "mleG=getGPT(emb)\n",
    "mleG.compile(\n",
    "    loss='sparse_categorical_crossentropy',\n",
    "    optimizer=Adam(),\n",
    "    metrics=['accuracy'],\n",
    ")\n",
    "mleG.summary()"
   ]
  },
  {
   "cell_type": "code",
   "execution_count": 12,
   "metadata": {},
   "outputs": [
    {
     "name": "stdout",
     "output_type": "stream",
     "text": [
      "Epoch 1/300\n",
      "782/782 [==============================] - 39s 47ms/step - loss: 4.7933 - accuracy: 0.3820 - val_loss: 3.8223 - val_accuracy: 0.4282\n",
      "Epoch 2/300\n",
      "782/782 [==============================] - 37s 47ms/step - loss: 3.7700 - accuracy: 0.4324 - val_loss: 3.5330 - val_accuracy: 0.4581\n",
      "Epoch 3/300\n",
      "782/782 [==============================] - 37s 47ms/step - loss: 3.5552 - accuracy: 0.4497 - val_loss: 3.4251 - val_accuracy: 0.4653\n",
      "Epoch 4/300\n",
      "782/782 [==============================] - 37s 47ms/step - loss: 3.4741 - accuracy: 0.4548 - val_loss: 3.3694 - val_accuracy: 0.4688\n",
      "Epoch 5/300\n",
      "782/782 [==============================] - 37s 47ms/step - loss: 3.4126 - accuracy: 0.4590 - val_loss: 3.3181 - val_accuracy: 0.4731\n",
      "Epoch 6/300\n",
      "782/782 [==============================] - 37s 47ms/step - loss: 3.3629 - accuracy: 0.4626 - val_loss: 3.2863 - val_accuracy: 0.4759\n",
      "Epoch 7/300\n",
      "782/782 [==============================] - 37s 47ms/step - loss: 3.3275 - accuracy: 0.4652 - val_loss: 3.2622 - val_accuracy: 0.4775\n",
      "Epoch 8/300\n",
      "782/782 [==============================] - 37s 47ms/step - loss: 3.2999 - accuracy: 0.4673 - val_loss: 3.2428 - val_accuracy: 0.4794\n",
      "Epoch 9/300\n",
      "782/782 [==============================] - 37s 47ms/step - loss: 3.2777 - accuracy: 0.4691 - val_loss: 3.2276 - val_accuracy: 0.4806\n",
      "Epoch 10/300\n",
      "782/782 [==============================] - 37s 47ms/step - loss: 3.2595 - accuracy: 0.4705 - val_loss: 3.2167 - val_accuracy: 0.4819\n",
      "Epoch 11/300\n",
      "782/782 [==============================] - 37s 47ms/step - loss: 3.2444 - accuracy: 0.4717 - val_loss: 3.2070 - val_accuracy: 0.4829\n",
      "Epoch 12/300\n",
      "782/782 [==============================] - 37s 47ms/step - loss: 3.2316 - accuracy: 0.4727 - val_loss: 3.1974 - val_accuracy: 0.4837\n",
      "Epoch 13/300\n",
      "782/782 [==============================] - 37s 47ms/step - loss: 3.2209 - accuracy: 0.4735 - val_loss: 3.1926 - val_accuracy: 0.4842\n",
      "Epoch 14/300\n",
      "782/782 [==============================] - 37s 47ms/step - loss: 3.2117 - accuracy: 0.4742 - val_loss: 3.1876 - val_accuracy: 0.4847\n",
      "Epoch 15/300\n",
      "782/782 [==============================] - 37s 47ms/step - loss: 3.2037 - accuracy: 0.4749 - val_loss: 3.1831 - val_accuracy: 0.4849\n",
      "Epoch 16/300\n",
      "782/782 [==============================] - 37s 47ms/step - loss: 3.1966 - accuracy: 0.4754 - val_loss: 3.1787 - val_accuracy: 0.4857\n",
      "Epoch 17/300\n",
      "782/782 [==============================] - 37s 47ms/step - loss: 3.1903 - accuracy: 0.4759 - val_loss: 3.1765 - val_accuracy: 0.4856\n",
      "Epoch 18/300\n",
      "782/782 [==============================] - 37s 47ms/step - loss: 3.1848 - accuracy: 0.4763 - val_loss: 3.1729 - val_accuracy: 0.4863\n",
      "Epoch 19/300\n",
      "782/782 [==============================] - 37s 47ms/step - loss: 3.1797 - accuracy: 0.4767 - val_loss: 3.1695 - val_accuracy: 0.4863\n",
      "Epoch 20/300\n",
      "782/782 [==============================] - 37s 47ms/step - loss: 3.1750 - accuracy: 0.4771 - val_loss: 3.1682 - val_accuracy: 0.4865\n",
      "Epoch 21/300\n",
      "782/782 [==============================] - 37s 47ms/step - loss: 3.1710 - accuracy: 0.4775 - val_loss: 3.1640 - val_accuracy: 0.4873\n",
      "Epoch 22/300\n",
      "782/782 [==============================] - 37s 47ms/step - loss: 3.1671 - accuracy: 0.4778 - val_loss: 3.1641 - val_accuracy: 0.4870\n",
      "Epoch 23/300\n",
      "782/782 [==============================] - 37s 47ms/step - loss: 3.1635 - accuracy: 0.4780 - val_loss: 3.1616 - val_accuracy: 0.4873\n",
      "Epoch 24/300\n",
      "782/782 [==============================] - 37s 47ms/step - loss: 3.1604 - accuracy: 0.4784 - val_loss: 3.1596 - val_accuracy: 0.4874\n",
      "Epoch 25/300\n",
      "782/782 [==============================] - 37s 47ms/step - loss: 3.1574 - accuracy: 0.4786 - val_loss: 3.1608 - val_accuracy: 0.4874\n",
      "Epoch 26/300\n",
      "782/782 [==============================] - 37s 47ms/step - loss: 3.1547 - accuracy: 0.4788 - val_loss: 3.1581 - val_accuracy: 0.4877\n",
      "Epoch 27/300\n",
      "782/782 [==============================] - 37s 47ms/step - loss: 3.1518 - accuracy: 0.4791 - val_loss: 3.1563 - val_accuracy: 0.4877\n",
      "Epoch 28/300\n",
      "782/782 [==============================] - 37s 47ms/step - loss: 3.1496 - accuracy: 0.4792 - val_loss: 3.1557 - val_accuracy: 0.4880\n",
      "Epoch 29/300\n",
      "782/782 [==============================] - 37s 47ms/step - loss: 3.1475 - accuracy: 0.4794 - val_loss: 3.1571 - val_accuracy: 0.4881\n",
      "Epoch 30/300\n",
      "782/782 [==============================] - 37s 47ms/step - loss: 3.1451 - accuracy: 0.4796 - val_loss: 3.1537 - val_accuracy: 0.4882\n",
      "Epoch 31/300\n",
      "782/782 [==============================] - 37s 47ms/step - loss: 3.1431 - accuracy: 0.4798 - val_loss: 3.1527 - val_accuracy: 0.4881\n",
      "Epoch 32/300\n",
      "782/782 [==============================] - 37s 47ms/step - loss: 3.1412 - accuracy: 0.4799 - val_loss: 3.1525 - val_accuracy: 0.4884\n",
      "Epoch 33/300\n",
      "782/782 [==============================] - 37s 47ms/step - loss: 3.1394 - accuracy: 0.4801 - val_loss: 3.1519 - val_accuracy: 0.4884\n",
      "Epoch 34/300\n",
      "782/782 [==============================] - 37s 47ms/step - loss: 3.1378 - accuracy: 0.4802 - val_loss: 3.1488 - val_accuracy: 0.4887\n",
      "Epoch 35/300\n",
      "782/782 [==============================] - 37s 47ms/step - loss: 3.1363 - accuracy: 0.4803 - val_loss: 3.1504 - val_accuracy: 0.4888\n",
      "Epoch 36/300\n",
      "782/782 [==============================] - 37s 47ms/step - loss: 3.1346 - accuracy: 0.4804 - val_loss: 3.1484 - val_accuracy: 0.4888\n",
      "Epoch 37/300\n",
      "782/782 [==============================] - 37s 47ms/step - loss: 3.1333 - accuracy: 0.4805 - val_loss: 3.1477 - val_accuracy: 0.4886\n",
      "Epoch 38/300\n",
      "782/782 [==============================] - 37s 47ms/step - loss: 3.1317 - accuracy: 0.4806 - val_loss: 3.1493 - val_accuracy: 0.4886\n",
      "Epoch 39/300\n",
      "782/782 [==============================] - 37s 47ms/step - loss: 3.1303 - accuracy: 0.4808 - val_loss: 3.1476 - val_accuracy: 0.4887\n",
      "Epoch 40/300\n",
      "782/782 [==============================] - 37s 47ms/step - loss: 3.1291 - accuracy: 0.4808 - val_loss: 3.1489 - val_accuracy: 0.4888\n",
      "Epoch 41/300\n",
      "782/782 [==============================] - 37s 47ms/step - loss: 3.1278 - accuracy: 0.4810 - val_loss: 3.1501 - val_accuracy: 0.4889\n",
      "Epoch 42/300\n",
      "782/782 [==============================] - 37s 47ms/step - loss: 3.1267 - accuracy: 0.4810 - val_loss: 3.1465 - val_accuracy: 0.4889\n",
      "Epoch 43/300\n",
      "782/782 [==============================] - 37s 47ms/step - loss: 3.1255 - accuracy: 0.4812 - val_loss: 3.1443 - val_accuracy: 0.4889\n",
      "Epoch 44/300\n",
      "782/782 [==============================] - 37s 47ms/step - loss: 3.1243 - accuracy: 0.4812 - val_loss: 3.1465 - val_accuracy: 0.4894\n",
      "Epoch 45/300\n",
      "782/782 [==============================] - 37s 47ms/step - loss: 3.1234 - accuracy: 0.4813 - val_loss: 3.1458 - val_accuracy: 0.4892\n",
      "Epoch 46/300\n",
      "782/782 [==============================] - 37s 47ms/step - loss: 3.1221 - accuracy: 0.4815 - val_loss: 3.1429 - val_accuracy: 0.4888\n",
      "Epoch 47/300\n",
      "782/782 [==============================] - 37s 47ms/step - loss: 3.1213 - accuracy: 0.4815 - val_loss: 3.1448 - val_accuracy: 0.4894\n",
      "Epoch 48/300\n",
      "782/782 [==============================] - 37s 47ms/step - loss: 3.1204 - accuracy: 0.4816 - val_loss: 3.1431 - val_accuracy: 0.4893\n",
      "Epoch 49/300\n",
      "782/782 [==============================] - 37s 47ms/step - loss: 3.1195 - accuracy: 0.4816 - val_loss: 3.1418 - val_accuracy: 0.4892\n",
      "Epoch 50/300\n",
      "782/782 [==============================] - 37s 47ms/step - loss: 3.1185 - accuracy: 0.4817 - val_loss: 3.1436 - val_accuracy: 0.4893\n",
      "Epoch 51/300\n",
      "782/782 [==============================] - 37s 47ms/step - loss: 3.1174 - accuracy: 0.4819 - val_loss: 3.1430 - val_accuracy: 0.4896\n",
      "Epoch 52/300\n",
      "782/782 [==============================] - 37s 47ms/step - loss: 3.1167 - accuracy: 0.4819 - val_loss: 3.1439 - val_accuracy: 0.4893\n",
      "Epoch 53/300\n",
      "782/782 [==============================] - 37s 47ms/step - loss: 3.1160 - accuracy: 0.4820 - val_loss: 3.1418 - val_accuracy: 0.4895\n",
      "Epoch 54/300\n",
      "782/782 [==============================] - 37s 47ms/step - loss: 3.1153 - accuracy: 0.4820 - val_loss: 3.1407 - val_accuracy: 0.4897\n",
      "Epoch 55/300\n",
      "782/782 [==============================] - 37s 47ms/step - loss: 3.1144 - accuracy: 0.4820 - val_loss: 3.1396 - val_accuracy: 0.4896\n",
      "Epoch 56/300\n",
      "782/782 [==============================] - 37s 47ms/step - loss: 3.1137 - accuracy: 0.4821 - val_loss: 3.1442 - val_accuracy: 0.4894\n",
      "Epoch 57/300\n"
     ]
    },
    {
     "name": "stdout",
     "output_type": "stream",
     "text": [
      "782/782 [==============================] - 37s 47ms/step - loss: 3.1131 - accuracy: 0.4821 - val_loss: 3.1406 - val_accuracy: 0.4897\n",
      "Epoch 58/300\n",
      "782/782 [==============================] - 37s 47ms/step - loss: 3.1123 - accuracy: 0.4822 - val_loss: 3.1411 - val_accuracy: 0.4897\n",
      "Epoch 59/300\n",
      "782/782 [==============================] - 37s 47ms/step - loss: 3.1116 - accuracy: 0.4823 - val_loss: 3.1404 - val_accuracy: 0.4896\n",
      "Epoch 60/300\n",
      "782/782 [==============================] - 37s 47ms/step - loss: 3.1109 - accuracy: 0.4823 - val_loss: 3.1393 - val_accuracy: 0.4896\n",
      "Epoch 61/300\n",
      "782/782 [==============================] - 37s 47ms/step - loss: 3.1103 - accuracy: 0.4824 - val_loss: 3.1387 - val_accuracy: 0.4894\n",
      "Epoch 62/300\n",
      "782/782 [==============================] - 37s 48ms/step - loss: 3.1097 - accuracy: 0.4824 - val_loss: 3.1400 - val_accuracy: 0.4897\n",
      "Epoch 63/300\n",
      "782/782 [==============================] - 37s 47ms/step - loss: 3.1091 - accuracy: 0.4825 - val_loss: 3.1419 - val_accuracy: 0.4897\n",
      "Epoch 64/300\n",
      "782/782 [==============================] - 37s 47ms/step - loss: 3.1085 - accuracy: 0.4825 - val_loss: 3.1382 - val_accuracy: 0.4899\n",
      "Epoch 65/300\n",
      "782/782 [==============================] - 37s 47ms/step - loss: 3.1079 - accuracy: 0.4825 - val_loss: 3.1381 - val_accuracy: 0.4898\n",
      "Epoch 66/300\n",
      "782/782 [==============================] - 37s 47ms/step - loss: 3.1074 - accuracy: 0.4826 - val_loss: 3.1403 - val_accuracy: 0.4900\n",
      "Epoch 67/300\n",
      "782/782 [==============================] - 37s 47ms/step - loss: 3.1068 - accuracy: 0.4827 - val_loss: 3.1402 - val_accuracy: 0.4899\n",
      "Epoch 68/300\n",
      "782/782 [==============================] - 37s 47ms/step - loss: 3.1064 - accuracy: 0.4827 - val_loss: 3.1387 - val_accuracy: 0.4899\n",
      "Epoch 69/300\n",
      "782/782 [==============================] - 37s 47ms/step - loss: 3.1056 - accuracy: 0.4828 - val_loss: 3.1388 - val_accuracy: 0.4900\n",
      "Epoch 70/300\n",
      "782/782 [==============================] - 37s 47ms/step - loss: 3.1053 - accuracy: 0.4828 - val_loss: 3.1384 - val_accuracy: 0.4903\n"
     ]
    },
    {
     "data": {
      "text/plain": [
       "<tensorflow.python.keras.callbacks.History at 0x7f1e2c8c8510>"
      ]
     },
     "execution_count": 12,
     "metadata": {},
     "output_type": "execute_result"
    }
   ],
   "source": [
    "mleG.fit(\n",
    "    decoder_train, \n",
    "    teacher_train, \n",
    "    batch_size=32, \n",
    "    epochs=300, \n",
    "    shuffle=True, \n",
    "    validation_data = (decoder_vali, teacher_vali), \n",
    "    callbacks=[\n",
    "        ModelCheckpoint(\n",
    "            f'./{folder_name}/mleG.h5', \n",
    "            save_best_only=True, \n",
    "            monitor = \"val_loss\"\n",
    "        ),\n",
    "        EarlyStopping(monitor='val_loss', patience=5),\n",
    "        CSVLogger(f'{folder_name}/mleG.csv'),\n",
    "    ]\n",
    ")"
   ]
  },
  {
   "cell_type": "code",
   "execution_count": 13,
   "metadata": {},
   "outputs": [
    {
     "name": "stdout",
     "output_type": "stream",
     "text": [
      "79/79 [==============================] - 2s 32ms/step - loss: 3.1381 - accuracy: 0.4898\n",
      "[3.1381313800811768, 0.48980000615119934]\n"
     ]
    }
   ],
   "source": [
    "mleG.load_weights(f'./{folder_name}/mleG.h5')\n",
    "loss = mleG.evaluate(decoder_vali, teacher_vali)\n",
    "print(loss)"
   ]
  },
  {
   "cell_type": "code",
   "execution_count": 5,
   "metadata": {},
   "outputs": [
    {
     "name": "stderr",
     "output_type": "stream",
     "text": [
      "No handles with labels found to put in legend.\n"
     ]
    },
    {
     "data": {
      "image/png": "[encoded data removed]",
      "text/plain": [
       "<Figure size 1800x1200 with 1 Axes>"
      ]
     },
     "metadata": {
      "needs_background": "light"
     },
     "output_type": "display_data"
    }
   ],
   "source": [
    "import csv\n",
    "from matplotlib import pyplot as plt\n",
    "%matplotlib inline\n",
    "rows = csv.reader(open(f'{folder_name}/mleG.csv'))\n",
    "nll_mle = []\n",
    "for i, row in enumerate(rows):\n",
    "    if i == 0:\n",
    "        continue\n",
    "    nll_mle.append(float(row[-2]))\n",
    "plt.figure(dpi = 300)\n",
    "plt.plot(np.arange(1,len(nll_mle)+1), nll_mle)\n",
    "plt.grid(True)\n",
    "plt.ylabel(r'accuracy')\n",
    "plt.xlabel('Training Iterations (37s per iters)')\n",
    "plt.legend()\n",
    "plt.show()"
   ]
  },
  {
   "cell_type": "code",
   "execution_count": 17,
   "metadata": {},
   "outputs": [],
   "source": [
    "np.savetxt(f'{folder_name}/mleG_nll_list.txt', nll_mle)"
   ]
  },
  {
   "cell_type": "code",
   "execution_count": null,
   "metadata": {},
   "outputs": [],
   "source": []
  }
 ],
 "metadata": {
  "kernelspec": {
   "display_name": "Python 3",
   "language": "python",
   "name": "python3"
  },
  "language_info": {
   "codemirror_mode": {
    "name": "ipython",
    "version": 3
   },
   "file_extension": ".py",
   "mimetype": "text/x-python",
   "name": "python",
   "nbconvert_exporter": "python",
   "pygments_lexer": "ipython3",
   "version": "3.7.4"
  }
 },
 "nbformat": 4,
 "nbformat_minor": 5
}
