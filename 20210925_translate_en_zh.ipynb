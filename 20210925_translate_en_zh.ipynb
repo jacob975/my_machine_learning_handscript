{
 "cells": [
  {
   "cell_type": "code",
   "execution_count": 1,
   "id": "e7fc337b",
   "metadata": {},
   "outputs": [
    {
     "name": "stdout",
     "output_type": "stream",
     "text": [
      "Version:  2.5.0\n",
      "Eager mode:  True\n",
      "Hub version:  0.12.0\n",
      "GPU is available\n"
     ]
    }
   ],
   "source": [
    "import os\n",
    "import numpy as np\n",
    "import pandas as pd\n",
    "import pickle\n",
    "import json\n",
    "\n",
    "import tensorflow as tf\n",
    "from tensorflow.keras.models import Model\n",
    "from tensorflow.keras.layers import Input, Dense, LSTM, Embedding, Activation, Dropout\n",
    "from tensorflow.keras.layers import MultiHeadAttention, LayerNormalization\n",
    "from tensorflow.keras.optimizers import Adam\n",
    "from tensorflow.keras.callbacks import ModelCheckpoint, EarlyStopping, CSVLogger\n",
    "import tensorflow_hub as hub\n",
    "import tensorflow_datasets as tfds\n",
    "\n",
    "# If you have more than 1 GPU, you might want to specify which GPU for training.\n",
    "# In this case, I have 2 GPU and the second one is RTX 2080ti, so I pick the `second` one.\n",
    "os.environ['CUDA_VISIBLE_DEVICES']='1' # The second\n",
    "tf.config.set_soft_device_placement(True)\n",
    "\n",
    "print(\"Version: \", tf.__version__)\n",
    "print(\"Eager mode: \", tf.executing_eagerly())\n",
    "print(\"Hub version: \", hub.__version__)\n",
    "print(\"GPU is\", \"available\" if tf.config.list_physical_devices(\"GPU\") else \"NOT AVAILABLE\")"
   ]
  },
  {
   "cell_type": "markdown",
   "id": "0946a8ae",
   "metadata": {},
   "source": [
    "# Constants"
   ]
  },
  {
   "cell_type": "code",
   "execution_count": 2,
   "id": "0ef9bec6",
   "metadata": {},
   "outputs": [],
   "source": [
    "d_name = '20210925_wmt19_en_zh'\n",
    "folder_name = '20210925_translate_mle_en_zh'\n",
    "\n",
    "wv_dim = 32\n",
    "encoder_que_pad = 35\n",
    "decoder_que_pad = 32"
   ]
  },
  {
   "cell_type": "markdown",
   "id": "e60584be",
   "metadata": {},
   "source": [
    "# Load data"
   ]
  },
  {
   "cell_type": "code",
   "execution_count": 3,
   "id": "036f86d3",
   "metadata": {},
   "outputs": [],
   "source": [
    "encoder_train = pickle.load(open(f'{d_name}/encoder_train.pkl', 'rb'))\n",
    "decoder_train = pickle.load(open(f'{d_name}/decoder_train.pkl', 'rb'))\n",
    "teacher_train = pickle.load(open(f'{d_name}/teacher_train.pkl', 'rb'))\n",
    "encoder_vali  = pickle.load(open(f'{d_name}/encoder_vali.pkl', 'rb'))\n",
    "decoder_vali  = pickle.load(open(f'{d_name}/decoder_vali.pkl', 'rb'))\n",
    "teacher_vali  = pickle.load(open(f'{d_name}/teacher_vali.pkl', 'rb'))\n",
    "\n",
    "decoder_idx2word   = pickle.load(open(f'{d_name}/en_idx2word.pkl','rb'))\n",
    "decoder_word2idx   = pickle.load(open(f'{d_name}/en_word2idx.pkl','rb'))\n",
    "encoder_idx2word   = pickle.load(open(f'{d_name}/zh_idx2word.pkl','rb'))\n",
    "encoder_word2idx   = pickle.load(open(f'{d_name}/zh_word2idx.pkl','rb'))\n",
    "\n",
    "decoder_emb32    = pickle.load(open(f'{d_name}/en_emb32.pkl', 'rb'))\n",
    "encoder_emb32    = pickle.load(open(f'{d_name}/zh_emb32.pkl', 'rb'))"
   ]
  },
  {
   "cell_type": "code",
   "execution_count": 4,
   "id": "9721ae5f",
   "metadata": {},
   "outputs": [
    {
     "name": "stdout",
     "output_type": "stream",
     "text": [
      "57298\n",
      "75420\n"
     ]
    }
   ],
   "source": [
    "num_decoder_words = np.max([np.max(decoder_train), np.max(decoder_vali)])+1\n",
    "num_encoder_words = np.max([np.max(encoder_train), np.max(encoder_vali)])+1\n",
    "\n",
    "print(num_decoder_words)\n",
    "print(num_encoder_words)"
   ]
  },
  {
   "cell_type": "code",
   "execution_count": 5,
   "id": "1452cc75",
   "metadata": {},
   "outputs": [],
   "source": [
    "def seq2word(seq_tensor, idx2word):\n",
    "    return np.array([[idx2word[str(i)] for i in seq] for seq in seq_tensor])"
   ]
  },
  {
   "cell_type": "code",
   "execution_count": 8,
   "id": "7664b777",
   "metadata": {
    "scrolled": true
   },
   "outputs": [
    {
     "data": {
      "text/plain": [
       "array([['<bos>', '1929', 'or', '1989', '<eos>', '<pad>', '<pad>',\n",
       "        '<pad>', '<pad>', '<pad>', '<pad>', '<pad>', '<pad>', '<pad>',\n",
       "        '<pad>', '<pad>', '<pad>', '<pad>', '<pad>', '<pad>', '<pad>',\n",
       "        '<pad>', '<pad>', '<pad>', '<pad>', '<pad>', '<pad>', '<pad>',\n",
       "        '<pad>', '<pad>', '<pad>', '<pad>']], dtype='<U5')"
      ]
     },
     "execution_count": 8,
     "metadata": {},
     "output_type": "execute_result"
    }
   ],
   "source": [
    "seq2word(decoder_vali[:1], decoder_idx2word)"
   ]
  },
  {
   "cell_type": "code",
   "execution_count": 7,
   "id": "a58577a6",
   "metadata": {},
   "outputs": [
    {
     "data": {
      "text/plain": [
       "array([['1929', '年', '还是', '1989', '年', '<pad>', '<pad>', '<pad>',\n",
       "        '<pad>', '<pad>', '<pad>', '<pad>', '<pad>', '<pad>', '<pad>',\n",
       "        '<pad>', '<pad>', '<pad>', '<pad>', '<pad>', '<pad>', '<pad>',\n",
       "        '<pad>', '<pad>', '<pad>', '<pad>', '<pad>', '<pad>', '<pad>',\n",
       "        '<pad>', '<pad>', '<pad>', '<pad>', '<pad>', '<pad>']],\n",
       "      dtype='<U5')"
      ]
     },
     "execution_count": 7,
     "metadata": {},
     "output_type": "execute_result"
    }
   ],
   "source": [
    "seq2word(encoder_vali[:1], encoder_idx2word)"
   ]
  },
  {
   "cell_type": "markdown",
   "id": "6e0a39d9",
   "metadata": {},
   "source": [
    "# Positional Encoding\n",
    "[Positional Encoding](https://www.tensorflow.org/text/tutorials/transformer)\n",
    "based on [Vaswani+17, Attention is All You Need](https://arxiv.org/abs/1706.03762)"
   ]
  },
  {
   "cell_type": "code",
   "execution_count": 9,
   "id": "5a776aa8",
   "metadata": {},
   "outputs": [],
   "source": [
    "def get_angles(pos, i, d_model):\n",
    "    angle_rates = 1 / np.power(10000, (2 * (i//2)) / np.float32(d_model))\n",
    "    return pos * angle_rates\n",
    "\n",
    "def positional_encoding(position, d_model):\n",
    "    angle_rads = get_angles(\n",
    "        np.arange(position)[:, np.newaxis],\n",
    "        np.arange(d_model)[np.newaxis, :],\n",
    "        d_model\n",
    "    )\n",
    "\n",
    "    # apply sin to even indices in the array; 2i\n",
    "    angle_rads[:, 0::2] = np.sin(angle_rads[:, 0::2])\n",
    "\n",
    "    # apply cos to odd indices in the array; 2i+1\n",
    "    angle_rads[:, 1::2] = np.cos(angle_rads[:, 1::2])\n",
    "\n",
    "    pos_encoding = angle_rads[np.newaxis, ...]\n",
    "\n",
    "    return tf.cast(pos_encoding, dtype=tf.float32)"
   ]
  },
  {
   "cell_type": "code",
   "execution_count": 10,
   "id": "f11293e3",
   "metadata": {},
   "outputs": [
    {
     "name": "stdout",
     "output_type": "stream",
     "text": [
      "(1, 10, 64)\n"
     ]
    },
    {
     "data": {
      "image/png": "[encoded data removed]",
      "text/plain": [
       "<Figure size 432x288 with 2 Axes>"
      ]
     },
     "metadata": {
      "needs_background": "light"
     },
     "output_type": "display_data"
    }
   ],
   "source": [
    "from matplotlib import pyplot as plt\n",
    "n, d = 10, 64\n",
    "pos_encoding = positional_encoding(n, d)\n",
    "print(pos_encoding.shape)\n",
    "pos_encoding = pos_encoding[0]\n",
    "\n",
    "# Juggle the dimensions for the plot\n",
    "pos_encoding = tf.reshape(pos_encoding, (n, d//2, 2))\n",
    "pos_encoding = tf.transpose(pos_encoding, (2, 1, 0))\n",
    "pos_encoding = tf.reshape(pos_encoding, (d, n))\n",
    "\n",
    "plt.pcolormesh(pos_encoding, cmap='RdBu')\n",
    "plt.ylabel('Depth')\n",
    "plt.xlabel('Position')\n",
    "plt.colorbar()\n",
    "plt.show()"
   ]
  },
  {
   "cell_type": "markdown",
   "id": "982c6883",
   "metadata": {},
   "source": [
    "# Generator"
   ]
  },
  {
   "cell_type": "markdown",
   "id": "74d50885",
   "metadata": {},
   "source": [
    "[Multi-Head Attention](https://www.tensorflow.org/api_docs/python/tf/keras/layers/MultiHeadAttention) \n",
    "and [Positional Encoding](https://www.tensorflow.org/text/tutorials/transformer)\n",
    "based on [Vaswani+17, Attention is All You Need](https://arxiv.org/abs/1706.03762)"
   ]
  },
  {
   "cell_type": "code",
   "execution_count": 11,
   "id": "5e7f459b",
   "metadata": {},
   "outputs": [],
   "source": [
    "def Transformer(q_que_pad, k_que_pad, wv_dim, rate = 0.1, mask = ''):\n",
    "    # Inputs\n",
    "    mem  = Input((q_que_pad, wv_dim))\n",
    "    encode = Input((k_que_pad, wv_dim))\n",
    "    # Constants\n",
    "    ff_dim = wv_dim*16\n",
    "    # Multi-Head Attention\n",
    "    q = Dense(wv_dim)(mem)\n",
    "    k = Dense(wv_dim)(encode)\n",
    "    v = Dense(wv_dim)(encode)\n",
    "    # Choose a mask, default: BERT (no mask)\n",
    "    mask_weights = np.ones((q_que_pad, k_que_pad))\n",
    "    if mask == 'GPT':\n",
    "        mask_weights = np.tri(q_que_pad, k_que_pad, 0)\n",
    "    mem_new = MultiHeadAttention(\n",
    "        num_heads = 4,\n",
    "        key_dim = wv_dim, \n",
    "        value_dim = wv_dim\n",
    "    )(\n",
    "        q, k, v,\n",
    "        attention_mask = mask_weights\n",
    "    )\n",
    "    mem_new = Dropout(rate)(mem_new)\n",
    "    mem_new = LayerNormalization(epsilon=1e-6)(mem_new+mem)\n",
    "    # Feed-Forward skip-connection\n",
    "    ffn = Dense(ff_dim, activation = 'relu')(mem_new)\n",
    "    ffn = Dense(wv_dim)(ffn)\n",
    "    ffn = Dropout(rate)(ffn)\n",
    "    out = LayerNormalization(epsilon=1e-6)(ffn+mem_new)\n",
    "    model = Model(\n",
    "        [mem, encode],\n",
    "        [mem_new, out],\n",
    "    )\n",
    "    return model\n",
    "\n",
    "def getE():\n",
    "    _input = Input((encoder_que_pad,))\n",
    "    emb = Embedding(\n",
    "        num_encoder_words, \n",
    "        wv_dim, \n",
    "        mask_zero = False,\n",
    "        input_length=(int(encoder_que_pad)),\n",
    "        trainable = True,\n",
    "        embeddings_initializer=tf.keras.initializers.Constant(encoder_emb32),\n",
    "    )\n",
    "    mem = emb(_input)\n",
    "    # position encoding\n",
    "    pe = positional_encoding(encoder_que_pad, wv_dim)\n",
    "    mem = LayerNormalization(epsilon=1e-6)(mem+pe)\n",
    "    # forward sentence\n",
    "    for i in range(1):\n",
    "        gptLayer = Transformer(encoder_que_pad, encoder_que_pad, wv_dim)\n",
    "        mem, output = gptLayer((mem, mem))\n",
    "        output = Activation('relu')(output)\n",
    "        mem = Activation('relu')(mem)\n",
    "    # Output\n",
    "    model = Model(\n",
    "        _input, \n",
    "        output) \n",
    "    return model\n",
    "\n",
    "def getD():\n",
    "    en_output = Input((encoder_que_pad, wv_dim))\n",
    "    de_input  = Input((decoder_que_pad,))\n",
    "    emb = Embedding(\n",
    "        num_decoder_words, \n",
    "        wv_dim, \n",
    "        mask_zero = False,\n",
    "        input_length=(int(decoder_que_pad)),\n",
    "        trainable = True,\n",
    "        embeddings_initializer=tf.keras.initializers.Constant(decoder_emb32),\n",
    "    )\n",
    "    mem = emb(de_input)\n",
    "    # position encoding\n",
    "    pe = positional_encoding(decoder_que_pad, wv_dim)\n",
    "    mem = LayerNormalization(epsilon=1e-6)(mem+pe)\n",
    "    # Attention\n",
    "    for j in range(1):\n",
    "        # Self attention\n",
    "        for i in range(1):\n",
    "            gptLayer = Transformer(decoder_que_pad, decoder_que_pad, wv_dim, mask = 'GPT')\n",
    "            mem, _ = gptLayer((mem, mem))\n",
    "            mem = Activation('relu')(mem)\n",
    "        # Cross attention\n",
    "        for i in range(1):\n",
    "            gptLayer = Transformer(decoder_que_pad, encoder_que_pad, wv_dim)\n",
    "            mem, output = gptLayer((mem, en_output))\n",
    "            output = Activation('relu')(output)\n",
    "            mem = Activation('relu')(mem)\n",
    "    # Concatenation and output\n",
    "    output = Dense(num_decoder_words)(output)\n",
    "    output = Activation('softmax')(output)\n",
    "    model = Model(\n",
    "        [en_output, de_input], \n",
    "        output,\n",
    "    )\n",
    "    return model\n",
    "\n",
    "# Language Model\n",
    "def getLM():\n",
    "    # Inputs\n",
    "    en_input = Input((encoder_que_pad,))\n",
    "    de_input = Input((decoder_que_pad,))\n",
    "    # Encoder (Czech -> code)\n",
    "    encoder = getE()\n",
    "    en_output = encoder(en_input)\n",
    "    # Decoder (code -> English)\n",
    "    decoder = getD()\n",
    "    de_output = decoder([en_output, de_input])\n",
    "    # Establish the model\n",
    "    model = Model(\n",
    "        [en_input, de_input],\n",
    "        de_output,\n",
    "    )\n",
    "    return model"
   ]
  },
  {
   "cell_type": "code",
   "execution_count": 12,
   "id": "33dedb28",
   "metadata": {},
   "outputs": [
    {
     "name": "stdout",
     "output_type": "stream",
     "text": [
      "Model: \"model_5\"\n",
      "__________________________________________________________________________________________________\n",
      "Layer (type)                    Output Shape         Param #     Connected to                     \n",
      "==================================================================================================\n",
      "input_1 (InputLayer)            [(None, 35)]         0                                            \n",
      "__________________________________________________________________________________________________\n",
      "model_1 (Functional)            (None, 35, 32)       2466912     input_1[0][0]                    \n",
      "__________________________________________________________________________________________________\n",
      "input_2 (InputLayer)            [(None, 32)]         0                                            \n",
      "__________________________________________________________________________________________________\n",
      "model_4 (Functional)            (None, 32, 57298)    3831250     model_1[0][0]                    \n",
      "                                                                 input_2[0][0]                    \n",
      "==================================================================================================\n",
      "Total params: 6,298,162\n",
      "Trainable params: 6,298,162\n",
      "Non-trainable params: 0\n",
      "__________________________________________________________________________________________________\n"
     ]
    }
   ],
   "source": [
    "mleG = getLM()\n",
    "mleG.compile(\n",
    "    loss='sparse_categorical_crossentropy',\n",
    "    optimizer=Adam(),\n",
    "    metrics=['accuracy'],\n",
    ")\n",
    "mleG.summary()"
   ]
  },
  {
   "cell_type": "code",
   "execution_count": 14,
   "id": "26068a93",
   "metadata": {},
   "outputs": [
    {
     "name": "stdout",
     "output_type": "stream",
     "text": [
      "Epoch 1/300\n",
      "WARNING:tensorflow:Gradients do not exist for variables ['dense_8/kernel:0', 'dense_8/bias:0', 'dense_9/kernel:0', 'dense_9/bias:0', 'layer_normalization_5/gamma:0', 'layer_normalization_5/beta:0'] when minimizing the loss.\n",
      "WARNING:tensorflow:Gradients do not exist for variables ['dense_8/kernel:0', 'dense_8/bias:0', 'dense_9/kernel:0', 'dense_9/bias:0', 'layer_normalization_5/gamma:0', 'layer_normalization_5/beta:0'] when minimizing the loss.\n",
      "3403/3403 [==============================] - 391s 114ms/step - loss: 3.7161 - accuracy: 0.5202 - val_loss: 3.0375 - val_accuracy: 0.5584\n",
      "Epoch 2/300\n",
      "3403/3403 [==============================] - 386s 113ms/step - loss: 2.9183 - accuracy: 0.5650 - val_loss: 2.7996 - val_accuracy: 0.5808\n",
      "Epoch 3/300\n",
      "3403/3403 [==============================] - 387s 114ms/step - loss: 2.7013 - accuracy: 0.5829 - val_loss: 2.6502 - val_accuracy: 0.5966\n",
      "Epoch 4/300\n",
      "3403/3403 [==============================] - 387s 114ms/step - loss: 2.5480 - accuracy: 0.5968 - val_loss: 2.5585 - val_accuracy: 0.6075\n",
      "Epoch 5/300\n",
      "3403/3403 [==============================] - 384s 113ms/step - loss: 2.4379 - accuracy: 0.6070 - val_loss: 2.5037 - val_accuracy: 0.6149\n",
      "Epoch 6/300\n",
      "3403/3403 [==============================] - 382s 112ms/step - loss: 2.3539 - accuracy: 0.6149 - val_loss: 2.4635 - val_accuracy: 0.6203\n",
      "Epoch 7/300\n",
      "3403/3403 [==============================] - 388s 114ms/step - loss: 2.2853 - accuracy: 0.6215 - val_loss: 2.4384 - val_accuracy: 0.6239\n",
      "Epoch 8/300\n",
      "3403/3403 [==============================] - 385s 113ms/step - loss: 2.2300 - accuracy: 0.6268 - val_loss: 2.4182 - val_accuracy: 0.6267\n",
      "Epoch 9/300\n",
      "3403/3403 [==============================] - 389s 114ms/step - loss: 2.1831 - accuracy: 0.6314 - val_loss: 2.4045 - val_accuracy: 0.6298\n",
      "Epoch 10/300\n",
      "3403/3403 [==============================] - 393s 116ms/step - loss: 2.1434 - accuracy: 0.6354 - val_loss: 2.3989 - val_accuracy: 0.6309\n",
      "Epoch 11/300\n",
      "3403/3403 [==============================] - 401s 118ms/step - loss: 2.1089 - accuracy: 0.6388 - val_loss: 2.3895 - val_accuracy: 0.6333\n",
      "Epoch 12/300\n",
      "3403/3403 [==============================] - 399s 117ms/step - loss: 2.0794 - accuracy: 0.6418 - val_loss: 2.3906 - val_accuracy: 0.6334\n",
      "Epoch 13/300\n",
      "3403/3403 [==============================] - 401s 118ms/step - loss: 2.0531 - accuracy: 0.6446 - val_loss: 2.3838 - val_accuracy: 0.6357\n",
      "Epoch 14/300\n",
      "3403/3403 [==============================] - 401s 118ms/step - loss: 2.0301 - accuracy: 0.6470 - val_loss: 2.3882 - val_accuracy: 0.6360\n",
      "Epoch 15/300\n",
      "3403/3403 [==============================] - 402s 118ms/step - loss: 2.0091 - accuracy: 0.6493 - val_loss: 2.3968 - val_accuracy: 0.6365\n",
      "Epoch 16/300\n",
      "3065/3403 [==========================>...] - ETA: 37s - loss: 1.9720 - accuracy: 0.6532"
     ]
    },
    {
     "name": "stderr",
     "output_type": "stream",
     "text": [
      "IOPub message rate exceeded.\n",
      "The notebook server will temporarily stop sending output\n",
      "to the client in order to avoid crashing it.\n",
      "To change this limit, set the config variable\n",
      "`--NotebookApp.iopub_msg_rate_limit`.\n",
      "\n",
      "Current values:\n",
      "NotebookApp.iopub_msg_rate_limit=1000.0 (msgs/sec)\n",
      "NotebookApp.rate_limit_window=3.0 (secs)\n",
      "\n"
     ]
    }
   ],
   "source": [
    "mleG.fit(\n",
    "    [encoder_train, decoder_train], \n",
    "    teacher_train, \n",
    "    batch_size=64, \n",
    "    epochs=300, \n",
    "    shuffle=True, \n",
    "    validation_data = (\n",
    "        [encoder_vali, decoder_vali], \n",
    "        teacher_vali\n",
    "    ), \n",
    "    callbacks=[\n",
    "        ModelCheckpoint(\n",
    "            f'./{folder_name}/mleG.h5', \n",
    "            save_best_only=True, \n",
    "            monitor = \"val_loss\"\n",
    "        ),\n",
    "        EarlyStopping(monitor='val_loss', patience=5),\n",
    "        CSVLogger(f'{folder_name}/mleG.csv'),\n",
    "    ]\n",
    ")"
   ]
  },
  {
   "cell_type": "code",
   "execution_count": 23,
   "id": "0282d6a7",
   "metadata": {},
   "outputs": [
    {
     "name": "stdout",
     "output_type": "stream",
     "text": [
      "757/757 [==============================] - 49s 65ms/step - loss: 2.3838 - accuracy: 0.6357\n",
      "2.38375186920166\n"
     ]
    }
   ],
   "source": [
    "mleG.load_weights(f'./{folder_name}/mleG.h5')\n",
    "loss, _acc = mleG.evaluate(\n",
    "    [encoder_vali, decoder_vali], \n",
    "    teacher_vali\n",
    ")\n",
    "print(loss)"
   ]
  },
  {
   "cell_type": "markdown",
   "id": "8411be32",
   "metadata": {},
   "source": [
    "## Inference train D (False) "
   ]
  },
  {
   "cell_type": "code",
   "execution_count": 18,
   "id": "2585f6fd",
   "metadata": {},
   "outputs": [],
   "source": [
    "def inference(\n",
    "    model,\n",
    "    enData = None,\n",
    "):\n",
    "    # Initialize\n",
    "    resp_pred_list = None\n",
    "    in_batch_list = None\n",
    "    the_first = True\n",
    "    \n",
    "    in_batch = np.zeros((len(enData), decoder_que_pad), dtype = int)\n",
    "    in_batch[:,0] = decoder_word2idx['<bos>']\n",
    "    en_batch = enData\n",
    "    resp_pred = np.zeros(in_batch.shape, dtype = int)\n",
    "    # Generate the sequence recurrsively.\n",
    "    for i in range(decoder_que_pad):\n",
    "        # Run\n",
    "        resp_pred_wv = model([en_batch, in_batch])\n",
    "        the_last = resp_pred_wv[:,i]\n",
    "        the_last = tf.reshape(\n",
    "            tf.random.categorical(tf.math.log(the_last), 1), \n",
    "            [len(enData),]\n",
    "        )\n",
    "        try:\n",
    "            resp_pred[:,i] = the_last\n",
    "            in_batch[:,i+1] = the_last\n",
    "        except:\n",
    "            resp_pred[:,i] = the_last\n",
    "    # Remove the words after <eos>\n",
    "    for i in range(len(resp_pred)):\n",
    "        try:\n",
    "            index = list(resp_pred[i]).index(en_word2idx['<eos>'])\n",
    "        except:\n",
    "            continue\n",
    "        resp_pred[i,index+1:] = 0\n",
    "        in_batch[i,index+1:] = 0\n",
    "        \n",
    "    return resp_pred, in_batch"
   ]
  },
  {
   "cell_type": "code",
   "execution_count": 22,
   "id": "85b3cae5",
   "metadata": {},
   "outputs": [
    {
     "name": "stdout",
     "output_type": "stream",
     "text": [
      "# Predicted sequence\n",
      "[['most' 'surprises' 'will' 'be' 'two' 'parties' 'turkish' 'and' 'the'\n",
      "  'eu' 'and' 'the' 'eu' 'still' 'struggle' 'against' 'israel' 'and'\n",
      "  'turkey’s' 'israeli' 'country' 'and' 'european' 'union' 'they' '<eos>'\n",
      "  '<pad>' '<pad>' '<pad>' '<pad>' '<pad>' '<pad>']]\n",
      "# Real sequence\n",
      "[['<bos>' 'but' 'it' 'is' 'nothing' 'if' 'not' 'surprising' 'that'\n",
      "  'these' 'parties' 'and' 'not' 'the' 'us' 'and' 'the' 'european' 'union'\n",
      "  'would' 'be' 'negotiating' 'such' 'an' 'agreement' '<eos>' '<pad>'\n",
      "  '<pad>' '<pad>' '<pad>' '<pad>' '<pad>']]\n"
     ]
    }
   ],
   "source": [
    "resp_pred_list, _ = inference(mleG, [encoder_vali[99]])\n",
    "print('# Predicted sequence')\n",
    "print(seq2word(resp_pred_list, decoder_idx2word))\n",
    "print('# Real sequence')\n",
    "print(seq2word([decoder_vali[99]], decoder_idx2word))"
   ]
  },
  {
   "cell_type": "code",
   "execution_count": null,
   "id": "82d041e0",
   "metadata": {},
   "outputs": [],
   "source": []
  }
 ],
 "metadata": {
  "kernelspec": {
   "display_name": "Python 3 (ipykernel)",
   "language": "python",
   "name": "python3"
  },
  "language_info": {
   "codemirror_mode": {
    "name": "ipython",
    "version": 3
   },
   "file_extension": ".py",
   "mimetype": "text/x-python",
   "name": "python",
   "nbconvert_exporter": "python",
   "pygments_lexer": "ipython3",
   "version": "3.9.6"
  }
 },
 "nbformat": 4,
 "nbformat_minor": 5
}
