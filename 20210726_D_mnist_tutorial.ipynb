{
 "cells": [
  {
   "cell_type": "markdown",
   "id": "c2820078",
   "metadata": {},
   "source": [
    "# Modules"
   ]
  },
  {
   "cell_type": "code",
   "execution_count": 1,
   "id": "cba6a80e",
   "metadata": {},
   "outputs": [],
   "source": [
    "import os\n",
    "import numpy as np\n",
    "\n",
    "import tensorflow as tf\n",
    "\n",
    "from tensorflow.keras.layers import Dense, Input\n",
    "from tensorflow.keras.layers import Reshape, Flatten\n",
    "from tensorflow.keras.callbacks import EarlyStopping\n",
    "from tensorflow.keras.callbacks import ModelCheckpoint\n",
    "from tensorflow.keras.datasets import mnist\n",
    "from tensorflow.keras.optimizers import Adam\n",
    "from matplotlib import pyplot as plt"
   ]
  },
  {
   "cell_type": "markdown",
   "id": "36a7db31",
   "metadata": {},
   "source": [
    "# Versions"
   ]
  },
  {
   "cell_type": "code",
   "execution_count": 2,
   "id": "61d73f48",
   "metadata": {},
   "outputs": [
    {
     "name": "stdout",
     "output_type": "stream",
     "text": [
      "Version:  2.4.0-rc0\n",
      "Eager mode:  True\n",
      "GPU is NOT AVAILABLE\n"
     ]
    }
   ],
   "source": [
    "print(\"Version: \", tf.__version__)\n",
    "print(\"Eager mode: \", tf.executing_eagerly())\n",
    "gpu_status = \"\"\n",
    "if tf.config.list_physical_devices(\"GPU\"):\n",
    "    gpu_status = \"available\"\n",
    "else: \n",
    "    gpu_status = \"NOT AVAILABLE\"\n",
    "print(\"GPU is\", gpu_status)"
   ]
  },
  {
   "cell_type": "markdown",
   "id": "48e939f1",
   "metadata": {},
   "source": [
    "# Load data"
   ]
  },
  {
   "cell_type": "code",
   "execution_count": 8,
   "id": "0dc6b3eb",
   "metadata": {},
   "outputs": [
    {
     "data": {
      "image/png": "[encoded data removed]",
      "text/plain": [
       "<Figure size 576x288 with 10 Axes>"
      ]
     },
     "metadata": {
      "needs_background": "light"
     },
     "output_type": "display_data"
    }
   ],
   "source": [
    "(x_train, y_train), (x_vali, y_vali) = mnist.load_data()\n",
    "# set brightness ranging from 0 to 1.\n",
    "x_train, x_vali = x_train / 255.0, x_vali / 255.0 \n",
    "\n",
    "img_size = 28\n",
    "begin = 90\n",
    "end = 100\n",
    "fig, axes = plt.subplots(\n",
    "    1, \n",
    "    end - begin, \n",
    "    figsize = ((end-begin)*0.8, 4),\n",
    "    #dpi = 300,\n",
    ")\n",
    "for i, img in enumerate(x_train[begin:end]):\n",
    "    axes[i].imshow(img, cmap='binary', )\n",
    "    axes[i].axis('off')\n",
    "    axes[i].set_title(y_train[begin+i])\n",
    "plt.show()"
   ]
  },
  {
   "cell_type": "markdown",
   "id": "30971208",
   "metadata": {},
   "source": [
    "# Model"
   ]
  },
  {
   "cell_type": "code",
   "execution_count": 4,
   "id": "cdcfd18c",
   "metadata": {},
   "outputs": [],
   "source": [
    "def getD():\n",
    "    img = Input((img_size, img_size))\n",
    "    m = tf.keras.layers.Reshape(\n",
    "        (img_size, img_size, 1)\n",
    "    )(img)\n",
    "    m = Flatten()(m)\n",
    "    m = Dense(128, activation = 'relu')(m)\n",
    "    m = Dense(64, activation = 'relu')(m)\n",
    "    out = Dense(10, activation = 'softmax')(m)\n",
    "    model = tf.keras.Model(\n",
    "        img,\n",
    "        out,\n",
    "    )\n",
    "    return model"
   ]
  },
  {
   "cell_type": "markdown",
   "id": "dc90643a",
   "metadata": {},
   "source": [
    "# Optimization"
   ]
  },
  {
   "cell_type": "code",
   "execution_count": 5,
   "id": "81ecff35",
   "metadata": {
    "scrolled": false
   },
   "outputs": [
    {
     "name": "stdout",
     "output_type": "stream",
     "text": [
      "Model: \"model\"\n",
      "_________________________________________________________________\n",
      "Layer (type)                 Output Shape              Param #   \n",
      "=================================================================\n",
      "input_1 (InputLayer)         [(None, 28, 28)]          0         \n",
      "_________________________________________________________________\n",
      "reshape (Reshape)            (None, 28, 28, 1)         0         \n",
      "_________________________________________________________________\n",
      "flatten (Flatten)            (None, 784)               0         \n",
      "_________________________________________________________________\n",
      "dense (Dense)                (None, 128)               100480    \n",
      "_________________________________________________________________\n",
      "dense_1 (Dense)              (None, 64)                8256      \n",
      "_________________________________________________________________\n",
      "dense_2 (Dense)              (None, 10)                650       \n",
      "=================================================================\n",
      "Total params: 109,386\n",
      "Trainable params: 109,386\n",
      "Non-trainable params: 0\n",
      "_________________________________________________________________\n"
     ]
    }
   ],
   "source": [
    "mleD = getD()\n",
    "mleD.compile(\n",
    "    loss='sparse_categorical_crossentropy',\n",
    "    optimizer=Adam(),\n",
    "    metrics=['accuracy'],\n",
    ")\n",
    "mleD.summary()"
   ]
  },
  {
   "cell_type": "code",
   "execution_count": 20,
   "id": "6dea1d46",
   "metadata": {},
   "outputs": [
    {
     "name": "stdout",
     "output_type": "stream",
     "text": [
      "loss:0.1098, metric:0.9740\n"
     ]
    }
   ],
   "source": [
    "mleD.compile(\n",
    "    loss='sparse_categorical_crossentropy',\n",
    "    optimizer=Adam(),\n",
    "    metrics=['accuracy'],\n",
    ")\n",
    "output = mleD.evaluate(x_vali, y_vali, verbose = 3)\n",
    "print(f'loss:{output[0]:.4f}, metric:{output[1]:.4f}')"
   ]
  },
  {
   "cell_type": "code",
   "execution_count": 17,
   "id": "e1048860",
   "metadata": {},
   "outputs": [
    {
     "name": "stdout",
     "output_type": "stream",
     "text": [
      "loss:2.3323, metric:2.3323\n"
     ]
    }
   ],
   "source": [
    "mleD.compile(\n",
    "    loss='sparse_categorical_crossentropy',\n",
    "    optimizer=Adam(),\n",
    "    metrics=['sparse_categorical_crossentropy'],\n",
    ")\n",
    "output = mleD.evaluate(x_vali, y_vali, verbose = 3)\n",
    "print(f'loss:{output[0]:.4f}, metric:{output[1]:.4f}')"
   ]
  },
  {
   "cell_type": "code",
   "execution_count": 22,
   "id": "ad620c30",
   "metadata": {},
   "outputs": [
    {
     "name": "stdout",
     "output_type": "stream",
     "text": [
      "Epoch 1/300\n",
      "469/469 - 0s - loss: 0.3539 - accuracy: 0.8984 - val_loss: 0.2043 - val_accuracy: 0.9389\n",
      "Epoch 2/300\n",
      "469/469 - 0s - loss: 0.1705 - accuracy: 0.9506 - val_loss: 0.1417 - val_accuracy: 0.9576\n",
      "Epoch 3/300\n",
      "469/469 - 0s - loss: 0.1269 - accuracy: 0.9631 - val_loss: 0.1191 - val_accuracy: 0.9640\n",
      "Epoch 4/300\n",
      "469/469 - 0s - loss: 0.0995 - accuracy: 0.9703 - val_loss: 0.1062 - val_accuracy: 0.9666\n",
      "Epoch 5/300\n",
      "469/469 - 0s - loss: 0.0838 - accuracy: 0.9745 - val_loss: 0.0947 - val_accuracy: 0.9703\n",
      "Epoch 6/300\n",
      "469/469 - 0s - loss: 0.0716 - accuracy: 0.9782 - val_loss: 0.0945 - val_accuracy: 0.9702\n",
      "Epoch 7/300\n",
      "469/469 - 0s - loss: 0.0596 - accuracy: 0.9813 - val_loss: 0.0874 - val_accuracy: 0.9728\n",
      "Epoch 8/300\n",
      "469/469 - 0s - loss: 0.0522 - accuracy: 0.9834 - val_loss: 0.0928 - val_accuracy: 0.9715\n",
      "Epoch 9/300\n",
      "469/469 - 0s - loss: 0.0455 - accuracy: 0.9853 - val_loss: 0.0929 - val_accuracy: 0.9727\n",
      "Epoch 10/300\n",
      "469/469 - 0s - loss: 0.0395 - accuracy: 0.9876 - val_loss: 0.0834 - val_accuracy: 0.9748\n",
      "Epoch 11/300\n",
      "469/469 - 0s - loss: 0.0361 - accuracy: 0.9883 - val_loss: 0.0823 - val_accuracy: 0.9751\n",
      "Epoch 12/300\n",
      "469/469 - 0s - loss: 0.0296 - accuracy: 0.9908 - val_loss: 0.0891 - val_accuracy: 0.9753\n",
      "Epoch 13/300\n",
      "469/469 - 0s - loss: 0.0268 - accuracy: 0.9914 - val_loss: 0.0868 - val_accuracy: 0.9742\n",
      "Epoch 14/300\n",
      "469/469 - 0s - loss: 0.0256 - accuracy: 0.9915 - val_loss: 0.0926 - val_accuracy: 0.9744\n",
      "Epoch 15/300\n",
      "469/469 - 0s - loss: 0.0221 - accuracy: 0.9930 - val_loss: 0.0910 - val_accuracy: 0.9759\n",
      "Epoch 16/300\n",
      "469/469 - 0s - loss: 0.0228 - accuracy: 0.9924 - val_loss: 0.0995 - val_accuracy: 0.9728\n"
     ]
    },
    {
     "data": {
      "text/plain": [
       "<tensorflow.python.keras.callbacks.History at 0x168c54100>"
      ]
     },
     "execution_count": 22,
     "metadata": {},
     "output_type": "execute_result"
    }
   ],
   "source": [
    "mleD.fit(\n",
    "    x_train,\n",
    "    y_train,\n",
    "    batch_size = 128,\n",
    "    epochs = 300,\n",
    "    shuffle = True,\n",
    "    validation_data = (x_vali, y_vali),\n",
    "    verbose = 2,\n",
    "    callbacks = [\n",
    "        ModelCheckpoint(\n",
    "            f'20210726_mnist/mleD.h5',\n",
    "            save_best_only=True,\n",
    "            monitor = 'val_loss',\n",
    "        ),\n",
    "        EarlyStopping(monitor='val_loss', patience = 5),\n",
    "    ]\n",
    ")"
   ]
  },
  {
   "cell_type": "code",
   "execution_count": 9,
   "id": "d08677b0",
   "metadata": {
    "scrolled": true
   },
   "outputs": [
    {
     "data": {
      "image/png": "[encoded data removed]",
      "text/plain": [
       "<Figure size 1152x288 with 20 Axes>"
      ]
     },
     "metadata": {
      "needs_background": "light"
     },
     "output_type": "display_data"
    }
   ],
   "source": [
    "begin = 80\n",
    "end = 100\n",
    "fig, axes = plt.subplots(\n",
    "    1, \n",
    "    end - begin, \n",
    "    figsize = ((end-begin)*0.8, 4))\n",
    "y_pred = mleD(x_vali[begin:end])\n",
    "y_maxout = np.argmax(y_pred, axis = 1)\n",
    "for i, img in enumerate(x_vali[begin:end]):\n",
    "    axes[i].imshow(img, cmap='binary', )\n",
    "    axes[i].axis('off')\n",
    "    # [vali: pred]\n",
    "    axes[i].set_title(\n",
    "        f'[{y_vali[begin+i]}, {y_maxout[i]}]'\n",
    "    )\n",
    "plt.show()"
   ]
  },
  {
   "cell_type": "code",
   "execution_count": null,
   "id": "271007ac",
   "metadata": {},
   "outputs": [],
   "source": []
  }
 ],
 "metadata": {
  "kernelspec": {
   "display_name": "Python 3",
   "language": "python",
   "name": "python3"
  },
  "language_info": {
   "codemirror_mode": {
    "name": "ipython",
    "version": 3
   },
   "file_extension": ".py",
   "mimetype": "text/x-python",
   "name": "python",
   "nbconvert_exporter": "python",
   "pygments_lexer": "ipython3",
   "version": "3.8.2"
  }
 },
 "nbformat": 4,
 "nbformat_minor": 5
}
