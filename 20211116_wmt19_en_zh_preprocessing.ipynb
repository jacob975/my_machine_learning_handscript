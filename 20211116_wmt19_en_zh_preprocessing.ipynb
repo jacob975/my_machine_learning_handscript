{
 "cells": [
  {
   "cell_type": "code",
   "execution_count": 1,
   "id": "fa2ef26a",
   "metadata": {},
   "outputs": [
    {
     "name": "stdout",
     "output_type": "stream",
     "text": [
      "Version:  2.5.0\n",
      "Eager mode:  True\n",
      "Hub version:  0.12.0\n",
      "GPU is available\n"
     ]
    }
   ],
   "source": [
    "import os\n",
    "import numpy as np\n",
    "import pandas as pd\n",
    "import pickle\n",
    "import nltk\n",
    "from nltk.tokenize import word_tokenize\n",
    "from gensim.models import Word2Vec\n",
    "import jieba\n",
    "\n",
    "import tensorflow as tf\n",
    "import tensorflow_hub as hub\n",
    "import tensorflow_datasets as tfds\n",
    "\n",
    "os.environ['CUDA_VISIBLE_DEVICES']='1'\n",
    "tf.config.set_soft_device_placement(True)\n",
    "\n",
    "print(\"Version: \", tf.__version__)\n",
    "print(\"Eager mode: \", tf.executing_eagerly())\n",
    "print(\"Hub version: \", hub.__version__)\n",
    "print(\"GPU is\", \"available\" if tf.config.list_physical_devices(\"GPU\") else \"NOT AVAILABLE\")"
   ]
  },
  {
   "cell_type": "markdown",
   "id": "0bd43f86",
   "metadata": {},
   "source": [
    "# Constants"
   ]
  },
  {
   "cell_type": "code",
   "execution_count": 2,
   "id": "b16447a5",
   "metadata": {},
   "outputs": [],
   "source": [
    "folder_name = '20211116_wmt19_en_zh'"
   ]
  },
  {
   "cell_type": "markdown",
   "id": "fba56ee6",
   "metadata": {},
   "source": [
    "# Load data\n",
    "Source: [data.statmt.org](http://data.statmt.org/news-commentary/v14/)"
   ]
  },
  {
   "cell_type": "code",
   "execution_count": 3,
   "id": "44db80aa",
   "metadata": {},
   "outputs": [
    {
     "name": "stderr",
     "output_type": "stream",
     "text": [
      "/home/ai-lab/anaconda3/lib/python3.7/site-packages/ipykernel_launcher.py:6: ParserWarning: Falling back to the 'python' engine because the 'c' engine does not support skipfooter; you can avoid this warning by specifying engine='python'.\n",
      "  \n",
      "Skipping line 5803: '\t' expected after '\"'. Error could possibly be due to parsing errors in the skipped footer rows (the skipfooter keyword is only applied after Python's csv library has parsed all rows).\n",
      "Skipping line 5804: '\t' expected after '\"'. Error could possibly be due to parsing errors in the skipped footer rows (the skipfooter keyword is only applied after Python's csv library has parsed all rows).\n",
      "Skipping line 12524: '\t' expected after '\"'. Error could possibly be due to parsing errors in the skipped footer rows (the skipfooter keyword is only applied after Python's csv library has parsed all rows).\n",
      "Skipping line 12525: '\t' expected after '\"'. Error could possibly be due to parsing errors in the skipped footer rows (the skipfooter keyword is only applied after Python's csv library has parsed all rows).\n",
      "Skipping line 12526: '\t' expected after '\"'. Error could possibly be due to parsing errors in the skipped footer rows (the skipfooter keyword is only applied after Python's csv library has parsed all rows).\n",
      "Skipping line 12528: '\t' expected after '\"'. Error could possibly be due to parsing errors in the skipped footer rows (the skipfooter keyword is only applied after Python's csv library has parsed all rows).\n",
      "Skipping line 32578: '\t' expected after '\"'. Error could possibly be due to parsing errors in the skipped footer rows (the skipfooter keyword is only applied after Python's csv library has parsed all rows).\n",
      "Skipping line 32603: '\t' expected after '\"'. Error could possibly be due to parsing errors in the skipped footer rows (the skipfooter keyword is only applied after Python's csv library has parsed all rows).\n",
      "Skipping line 32612: '\t' expected after '\"'. Error could possibly be due to parsing errors in the skipped footer rows (the skipfooter keyword is only applied after Python's csv library has parsed all rows).\n",
      "Skipping line 38687: '\t' expected after '\"'. Error could possibly be due to parsing errors in the skipped footer rows (the skipfooter keyword is only applied after Python's csv library has parsed all rows).\n",
      "Skipping line 40278: '\t' expected after '\"'. Error could possibly be due to parsing errors in the skipped footer rows (the skipfooter keyword is only applied after Python's csv library has parsed all rows).\n",
      "Skipping line 40751: '\t' expected after '\"'. Error could possibly be due to parsing errors in the skipped footer rows (the skipfooter keyword is only applied after Python's csv library has parsed all rows).\n",
      "Skipping line 40752: '\t' expected after '\"'. Error could possibly be due to parsing errors in the skipped footer rows (the skipfooter keyword is only applied after Python's csv library has parsed all rows).\n",
      "Skipping line 53670: '\t' expected after '\"'. Error could possibly be due to parsing errors in the skipped footer rows (the skipfooter keyword is only applied after Python's csv library has parsed all rows).\n",
      "Skipping line 53679: '\t' expected after '\"'. Error could possibly be due to parsing errors in the skipped footer rows (the skipfooter keyword is only applied after Python's csv library has parsed all rows).\n",
      "Skipping line 53680: '\t' expected after '\"'. Error could possibly be due to parsing errors in the skipped footer rows (the skipfooter keyword is only applied after Python's csv library has parsed all rows).\n",
      "Skipping line 59424: '\t' expected after '\"'. Error could possibly be due to parsing errors in the skipped footer rows (the skipfooter keyword is only applied after Python's csv library has parsed all rows).\n",
      "Skipping line 66350: field larger than field limit (131072). Error could possibly be due to parsing errors in the skipped footer rows (the skipfooter keyword is only applied after Python's csv library has parsed all rows).\n",
      "Skipping line 70441: '\t' expected after '\"'. Error could possibly be due to parsing errors in the skipped footer rows (the skipfooter keyword is only applied after Python's csv library has parsed all rows).\n",
      "Skipping line 79651: '\t' expected after '\"'. Error could possibly be due to parsing errors in the skipped footer rows (the skipfooter keyword is only applied after Python's csv library has parsed all rows).\n",
      "Skipping line 90967: field larger than field limit (131072). Error could possibly be due to parsing errors in the skipped footer rows (the skipfooter keyword is only applied after Python's csv library has parsed all rows).\n",
      "Skipping line 92390: '\t' expected after '\"'. Error could possibly be due to parsing errors in the skipped footer rows (the skipfooter keyword is only applied after Python's csv library has parsed all rows).\n",
      "Skipping line 92391: '\t' expected after '\"'. Error could possibly be due to parsing errors in the skipped footer rows (the skipfooter keyword is only applied after Python's csv library has parsed all rows).\n",
      "Skipping line 94542: field larger than field limit (131072). Error could possibly be due to parsing errors in the skipped footer rows (the skipfooter keyword is only applied after Python's csv library has parsed all rows).\n",
      "Skipping line 96378: '\t' expected after '\"'. Error could possibly be due to parsing errors in the skipped footer rows (the skipfooter keyword is only applied after Python's csv library has parsed all rows).\n",
      "Skipping line 96379: '\t' expected after '\"'. Error could possibly be due to parsing errors in the skipped footer rows (the skipfooter keyword is only applied after Python's csv library has parsed all rows).\n",
      "Skipping line 101926: field larger than field limit (131072). Error could possibly be due to parsing errors in the skipped footer rows (the skipfooter keyword is only applied after Python's csv library has parsed all rows).\n",
      "Skipping line 109275: '\t' expected after '\"'. Error could possibly be due to parsing errors in the skipped footer rows (the skipfooter keyword is only applied after Python's csv library has parsed all rows).\n",
      "Skipping line 122086: '\t' expected after '\"'. Error could possibly be due to parsing errors in the skipped footer rows (the skipfooter keyword is only applied after Python's csv library has parsed all rows).\n",
      "Skipping line 124982: '\t' expected after '\"'. Error could possibly be due to parsing errors in the skipped footer rows (the skipfooter keyword is only applied after Python's csv library has parsed all rows).\n",
      "Skipping line 126316: '\t' expected after '\"'. Error could possibly be due to parsing errors in the skipped footer rows (the skipfooter keyword is only applied after Python's csv library has parsed all rows).\n",
      "Skipping line 140484: '\t' expected after '\"'. Error could possibly be due to parsing errors in the skipped footer rows (the skipfooter keyword is only applied after Python's csv library has parsed all rows).\n",
      "Skipping line 154765: '\t' expected after '\"'. Error could possibly be due to parsing errors in the skipped footer rows (the skipfooter keyword is only applied after Python's csv library has parsed all rows).\n",
      "Skipping line 154792: '\t' expected after '\"'. Error could possibly be due to parsing errors in the skipped footer rows (the skipfooter keyword is only applied after Python's csv library has parsed all rows).\n",
      "Skipping line 165459: '\t' expected after '\"'. Error could possibly be due to parsing errors in the skipped footer rows (the skipfooter keyword is only applied after Python's csv library has parsed all rows).\n",
      "Skipping line 170118: '\t' expected after '\"'. Error could possibly be due to parsing errors in the skipped footer rows (the skipfooter keyword is only applied after Python's csv library has parsed all rows).\n",
      "Skipping line 175998: '\t' expected after '\"'. Error could possibly be due to parsing errors in the skipped footer rows (the skipfooter keyword is only applied after Python's csv library has parsed all rows).\n",
      "Skipping line 182568: field larger than field limit (131072). Error could possibly be due to parsing errors in the skipped footer rows (the skipfooter keyword is only applied after Python's csv library has parsed all rows).\n",
      "Skipping line 190288: '\t' expected after '\"'. Error could possibly be due to parsing errors in the skipped footer rows (the skipfooter keyword is only applied after Python's csv library has parsed all rows).\n",
      "Skipping line 190289: '\t' expected after '\"'. Error could possibly be due to parsing errors in the skipped footer rows (the skipfooter keyword is only applied after Python's csv library has parsed all rows).\n",
      "Skipping line 191257: '\t' expected after '\"'. Error could possibly be due to parsing errors in the skipped footer rows (the skipfooter keyword is only applied after Python's csv library has parsed all rows).\n",
      "Skipping line 203590: '\t' expected after '\"'. Error could possibly be due to parsing errors in the skipped footer rows (the skipfooter keyword is only applied after Python's csv library has parsed all rows).\n",
      "Skipping line 207570: '\t' expected after '\"'. Error could possibly be due to parsing errors in the skipped footer rows (the skipfooter keyword is only applied after Python's csv library has parsed all rows).\n"
     ]
    },
    {
     "name": "stderr",
     "output_type": "stream",
     "text": [
      "Skipping line 211623: '\t' expected after '\"'. Error could possibly be due to parsing errors in the skipped footer rows (the skipfooter keyword is only applied after Python's csv library has parsed all rows).\n",
      "Skipping line 211645: '\t' expected after '\"'. Error could possibly be due to parsing errors in the skipped footer rows (the skipfooter keyword is only applied after Python's csv library has parsed all rows).\n",
      "Skipping line 214161: '\t' expected after '\"'. Error could possibly be due to parsing errors in the skipped footer rows (the skipfooter keyword is only applied after Python's csv library has parsed all rows).\n",
      "Skipping line 214165: '\t' expected after '\"'. Error could possibly be due to parsing errors in the skipped footer rows (the skipfooter keyword is only applied after Python's csv library has parsed all rows).\n",
      "Skipping line 214184: '\t' expected after '\"'. Error could possibly be due to parsing errors in the skipped footer rows (the skipfooter keyword is only applied after Python's csv library has parsed all rows).\n",
      "Skipping line 214187: '\t' expected after '\"'. Error could possibly be due to parsing errors in the skipped footer rows (the skipfooter keyword is only applied after Python's csv library has parsed all rows).\n",
      "Skipping line 215915: '\t' expected after '\"'. Error could possibly be due to parsing errors in the skipped footer rows (the skipfooter keyword is only applied after Python's csv library has parsed all rows).\n",
      "Skipping line 238872: '\t' expected after '\"'. Error could possibly be due to parsing errors in the skipped footer rows (the skipfooter keyword is only applied after Python's csv library has parsed all rows).\n",
      "Skipping line 238901: '\t' expected after '\"'. Error could possibly be due to parsing errors in the skipped footer rows (the skipfooter keyword is only applied after Python's csv library has parsed all rows).\n",
      "Skipping line 238902: field larger than field limit (131072). Error could possibly be due to parsing errors in the skipped footer rows (the skipfooter keyword is only applied after Python's csv library has parsed all rows).\n",
      "Skipping line 246615: '\t' expected after '\"'. Error could possibly be due to parsing errors in the skipped footer rows (the skipfooter keyword is only applied after Python's csv library has parsed all rows).\n",
      "Skipping line 251317: '\t' expected after '\"'. Error could possibly be due to parsing errors in the skipped footer rows (the skipfooter keyword is only applied after Python's csv library has parsed all rows).\n",
      "Skipping line 257207: '\t' expected after '\"'. Error could possibly be due to parsing errors in the skipped footer rows (the skipfooter keyword is only applied after Python's csv library has parsed all rows).\n",
      "Skipping line 257210: '\t' expected after '\"'. Error could possibly be due to parsing errors in the skipped footer rows (the skipfooter keyword is only applied after Python's csv library has parsed all rows).\n",
      "Skipping line 258562: '\t' expected after '\"'. Error could possibly be due to parsing errors in the skipped footer rows (the skipfooter keyword is only applied after Python's csv library has parsed all rows).\n",
      "Skipping line 269142: '\t' expected after '\"'. Error could possibly be due to parsing errors in the skipped footer rows (the skipfooter keyword is only applied after Python's csv library has parsed all rows).\n",
      "Skipping line 269143: '\t' expected after '\"'. Error could possibly be due to parsing errors in the skipped footer rows (the skipfooter keyword is only applied after Python's csv library has parsed all rows).\n",
      "Skipping line 269148: '\t' expected after '\"'. Error could possibly be due to parsing errors in the skipped footer rows (the skipfooter keyword is only applied after Python's csv library has parsed all rows).\n",
      "Skipping line 269149: '\t' expected after '\"'. Error could possibly be due to parsing errors in the skipped footer rows (the skipfooter keyword is only applied after Python's csv library has parsed all rows).\n",
      "Skipping line 269153: '\t' expected after '\"'. Error could possibly be due to parsing errors in the skipped footer rows (the skipfooter keyword is only applied after Python's csv library has parsed all rows).\n",
      "Skipping line 291134: '\t' expected after '\"'. Error could possibly be due to parsing errors in the skipped footer rows (the skipfooter keyword is only applied after Python's csv library has parsed all rows).\n",
      "Skipping line 299996: '\t' expected after '\"'. Error could possibly be due to parsing errors in the skipped footer rows (the skipfooter keyword is only applied after Python's csv library has parsed all rows).\n",
      "Skipping line 300001: '\t' expected after '\"'. Error could possibly be due to parsing errors in the skipped footer rows (the skipfooter keyword is only applied after Python's csv library has parsed all rows).\n",
      "Skipping line 9863: Expected 2 fields in line 9863, saw 3\n",
      "Skipping line 9865: Expected 2 fields in line 9865, saw 3\n",
      "Skipping line 9871: Expected 2 fields in line 9871, saw 3\n",
      "Skipping line 9881: Expected 2 fields in line 9881, saw 3\n",
      "Skipping line 9883: Expected 2 fields in line 9883, saw 3\n",
      "Skipping line 9885: Expected 2 fields in line 9885, saw 3\n",
      "Skipping line 9887: Expected 2 fields in line 9887, saw 3\n",
      "Skipping line 9890: Expected 2 fields in line 9890, saw 3\n",
      "Skipping line 20937: Expected 2 fields in line 20937, saw 3\n",
      "Skipping line 20941: Expected 2 fields in line 20941, saw 3\n",
      "Skipping line 20958: Expected 2 fields in line 20958, saw 3\n",
      "Skipping line 32613: Expected 2 fields in line 32613, saw 3\n",
      "Skipping line 43018: Expected 2 fields in line 43018, saw 3\n",
      "Skipping line 43048: Expected 2 fields in line 43048, saw 3\n",
      "Skipping line 43536: Expected 2 fields in line 43536, saw 3\n",
      "Skipping line 43542: Expected 2 fields in line 43542, saw 3\n",
      "Skipping line 43543: Expected 2 fields in line 43543, saw 3\n",
      "Skipping line 43559: Expected 2 fields in line 43559, saw 3\n",
      "Skipping line 43564: Expected 2 fields in line 43564, saw 3\n",
      "Skipping line 43567: Expected 2 fields in line 43567, saw 3\n",
      "Skipping line 46844: Expected 2 fields in line 46844, saw 3\n",
      "Skipping line 55595: Expected 2 fields in line 55595, saw 3\n",
      "Skipping line 55598: Expected 2 fields in line 55598, saw 3\n",
      "Skipping line 55599: Expected 2 fields in line 55599, saw 3\n",
      "Skipping line 55604: Expected 2 fields in line 55604, saw 3\n",
      "Skipping line 55610: Expected 2 fields in line 55610, saw 3\n",
      "Skipping line 55614: Expected 2 fields in line 55614, saw 3\n",
      "Skipping line 55616: Expected 2 fields in line 55616, saw 3\n",
      "Skipping line 55619: Expected 2 fields in line 55619, saw 3\n",
      "Skipping line 55631: Expected 2 fields in line 55631, saw 3\n",
      "Skipping line 57900: Expected 2 fields in line 57900, saw 3\n",
      "Skipping line 57903: Expected 2 fields in line 57903, saw 3\n",
      "Skipping line 57906: Expected 2 fields in line 57906, saw 3\n",
      "Skipping line 57916: Expected 2 fields in line 57916, saw 3\n",
      "Skipping line 57918: Expected 2 fields in line 57918, saw 3\n",
      "Skipping line 59401: Expected 2 fields in line 59401, saw 4\n",
      "Skipping line 59402: Expected 2 fields in line 59402, saw 4\n",
      "Skipping line 59407: Expected 2 fields in line 59407, saw 4\n",
      "Skipping line 59411: Expected 2 fields in line 59411, saw 4\n",
      "Skipping line 59415: Expected 2 fields in line 59415, saw 4\n",
      "Skipping line 59417: Expected 2 fields in line 59417, saw 4\n",
      "Skipping line 88505: Expected 2 fields in line 88505, saw 3\n",
      "Skipping line 89006: Expected 2 fields in line 89006, saw 3\n",
      "Skipping line 89008: Expected 2 fields in line 89008, saw 3\n",
      "Skipping line 89012: Expected 2 fields in line 89012, saw 3\n",
      "Skipping line 89013: Expected 2 fields in line 89013, saw 3\n",
      "Skipping line 91263: Expected 2 fields in line 91263, saw 3\n",
      "Skipping line 91268: Expected 2 fields in line 91268, saw 3\n",
      "Skipping line 91283: Expected 2 fields in line 91283, saw 3\n",
      "Skipping line 93067: Expected 2 fields in line 93067, saw 3\n",
      "Skipping line 93074: Expected 2 fields in line 93074, saw 3\n",
      "Skipping line 93076: Expected 2 fields in line 93076, saw 3\n",
      "Skipping line 93080: Expected 2 fields in line 93080, saw 3\n",
      "Skipping line 93086: Expected 2 fields in line 93086, saw 3\n",
      "Skipping line 93957: Expected 2 fields in line 93957, saw 4\n",
      "Skipping line 93962: Expected 2 fields in line 93962, saw 4\n",
      "Skipping line 93965: Expected 2 fields in line 93965, saw 4\n",
      "Skipping line 93967: Expected 2 fields in line 93967, saw 4\n",
      "Skipping line 93985: Expected 2 fields in line 93985, saw 4\n",
      "Skipping line 93990: Expected 2 fields in line 93990, saw 4\n",
      "Skipping line 105519: Expected 2 fields in line 105519, saw 3\n",
      "Skipping line 105521: Expected 2 fields in line 105521, saw 3\n",
      "Skipping line 105540: Expected 2 fields in line 105540, saw 3\n",
      "Skipping line 105980: Expected 2 fields in line 105980, saw 3\n",
      "Skipping line 105983: Expected 2 fields in line 105983, saw 3\n",
      "Skipping line 106007: Expected 2 fields in line 106007, saw 3\n",
      "Skipping line 106009: Expected 2 fields in line 106009, saw 3\n",
      "Skipping line 107423: Expected 2 fields in line 107423, saw 3\n",
      "Skipping line 116143: Expected 2 fields in line 116143, saw 3\n",
      "Skipping line 116150: Expected 2 fields in line 116150, saw 3\n",
      "Skipping line 116160: Expected 2 fields in line 116160, saw 3\n",
      "Skipping line 118847: Expected 2 fields in line 118847, saw 3\n",
      "Skipping line 118851: Expected 2 fields in line 118851, saw 3\n",
      "Skipping line 118863: Expected 2 fields in line 118863, saw 3\n",
      "Skipping line 119221: Expected 2 fields in line 119221, saw 4\n",
      "Skipping line 119222: Expected 2 fields in line 119222, saw 3\n",
      "Skipping line 125591: Expected 2 fields in line 125591, saw 3\n",
      "Skipping line 140921: Expected 2 fields in line 140921, saw 3\n",
      "Skipping line 140939: Expected 2 fields in line 140939, saw 3\n",
      "Skipping line 140941: Expected 2 fields in line 140941, saw 3\n",
      "Skipping line 141150: Expected 2 fields in line 141150, saw 3\n",
      "Skipping line 141157: Expected 2 fields in line 141157, saw 3\n",
      "Skipping line 141165: Expected 2 fields in line 141165, saw 3\n",
      "Skipping line 141173: Expected 2 fields in line 141173, saw 3\n",
      "Skipping line 141180: Expected 2 fields in line 141180, saw 3\n",
      "Skipping line 141185: Expected 2 fields in line 141185, saw 3\n",
      "Skipping line 145710: Expected 2 fields in line 145710, saw 3\n",
      "Skipping line 145713: Expected 2 fields in line 145713, saw 3\n",
      "Skipping line 145721: Expected 2 fields in line 145721, saw 3\n",
      "Skipping line 145725: Expected 2 fields in line 145725, saw 3\n",
      "Skipping line 150367: Expected 2 fields in line 150367, saw 3\n",
      "Skipping line 150372: Expected 2 fields in line 150372, saw 3\n",
      "Skipping line 150378: Expected 2 fields in line 150378, saw 3\n",
      "Skipping line 160790: Expected 2 fields in line 160790, saw 3\n",
      "Skipping line 160792: Expected 2 fields in line 160792, saw 3\n",
      "Skipping line 160795: Expected 2 fields in line 160795, saw 3\n",
      "Skipping line 160797: Expected 2 fields in line 160797, saw 3\n",
      "Skipping line 160800: Expected 2 fields in line 160800, saw 3\n",
      "Skipping line 160802: Expected 2 fields in line 160802, saw 3\n",
      "Skipping line 160804: Expected 2 fields in line 160804, saw 3\n",
      "Skipping line 160812: Expected 2 fields in line 160812, saw 3\n",
      "Skipping line 160816: Expected 2 fields in line 160816, saw 3\n",
      "Skipping line 160820: Expected 2 fields in line 160820, saw 3\n",
      "Skipping line 160821: Expected 2 fields in line 160821, saw 3\n",
      "Skipping line 165020: Expected 2 fields in line 165020, saw 3\n",
      "Skipping line 165021: Expected 2 fields in line 165021, saw 3\n",
      "Skipping line 168165: Expected 2 fields in line 168165, saw 3\n",
      "Skipping line 168178: Expected 2 fields in line 168178, saw 3\n",
      "Skipping line 168181: Expected 2 fields in line 168181, saw 3\n",
      "Skipping line 175943: Expected 2 fields in line 175943, saw 3\n",
      "Skipping line 175947: Expected 2 fields in line 175947, saw 3\n",
      "Skipping line 175970: Expected 2 fields in line 175970, saw 3\n",
      "Skipping line 180042: Expected 2 fields in line 180042, saw 3\n",
      "Skipping line 180243: Expected 2 fields in line 180243, saw 3\n",
      "Skipping line 180261: Expected 2 fields in line 180261, saw 3\n",
      "Skipping line 180264: Expected 2 fields in line 180264, saw 3\n",
      "Skipping line 180534: Expected 2 fields in line 180534, saw 3\n",
      "Skipping line 180553: Expected 2 fields in line 180553, saw 3\n",
      "Skipping line 180559: Expected 2 fields in line 180559, saw 3\n",
      "Skipping line 196505: Expected 2 fields in line 196505, saw 3\n",
      "Skipping line 196512: Expected 2 fields in line 196512, saw 3\n",
      "Skipping line 196518: Expected 2 fields in line 196518, saw 3\n",
      "Skipping line 196520: Expected 2 fields in line 196520, saw 3\n",
      "Skipping line 196528: Expected 2 fields in line 196528, saw 3\n",
      "Skipping line 196530: Expected 2 fields in line 196530, saw 3\n",
      "Skipping line 196541: Expected 2 fields in line 196541, saw 3\n",
      "Skipping line 196940: Expected 2 fields in line 196940, saw 3\n",
      "Skipping line 196947: Expected 2 fields in line 196947, saw 3\n",
      "Skipping line 196963: Expected 2 fields in line 196963, saw 3\n",
      "Skipping line 196966: Expected 2 fields in line 196966, saw 3\n",
      "Skipping line 196969: Expected 2 fields in line 196969, saw 3\n",
      "Skipping line 201430: Expected 2 fields in line 201430, saw 3\n",
      "Skipping line 201436: Expected 2 fields in line 201436, saw 3\n",
      "Skipping line 201444: Expected 2 fields in line 201444, saw 3\n",
      "Skipping line 201453: Expected 2 fields in line 201453, saw 3\n",
      "Skipping line 203288: Expected 2 fields in line 203288, saw 3\n",
      "Skipping line 203314: Expected 2 fields in line 203314, saw 3\n",
      "Skipping line 203321: Expected 2 fields in line 203321, saw 3\n",
      "Skipping line 207921: Expected 2 fields in line 207921, saw 3\n",
      "Skipping line 207929: Expected 2 fields in line 207929, saw 3\n",
      "Skipping line 207940: Expected 2 fields in line 207940, saw 3\n",
      "Skipping line 207942: Expected 2 fields in line 207942, saw 3\n",
      "Skipping line 216455: Expected 2 fields in line 216455, saw 3\n",
      "Skipping line 216463: Expected 2 fields in line 216463, saw 3\n",
      "Skipping line 216465: Expected 2 fields in line 216465, saw 3\n",
      "Skipping line 216467: Expected 2 fields in line 216467, saw 3\n",
      "Skipping line 216471: Expected 2 fields in line 216471, saw 3\n",
      "Skipping line 216472: Expected 2 fields in line 216472, saw 3\n",
      "Skipping line 231807: Expected 2 fields in line 231807, saw 3\n",
      "Skipping line 231808: Expected 2 fields in line 231808, saw 3\n",
      "Skipping line 231812: Expected 2 fields in line 231812, saw 3\n",
      "Skipping line 233648: Expected 2 fields in line 233648, saw 3\n",
      "Skipping line 233664: Expected 2 fields in line 233664, saw 3\n",
      "Skipping line 291013: Expected 2 fields in line 291013, saw 3\n",
      "Skipping line 291014: Expected 2 fields in line 291014, saw 3\n",
      "Skipping line 291032: Expected 2 fields in line 291032, saw 3\n",
      "Skipping line 291040: Expected 2 fields in line 291040, saw 3\n",
      "Skipping line 296514: Expected 2 fields in line 296514, saw 3\n",
      "Skipping line 296516: Expected 2 fields in line 296516, saw 3\n",
      "Skipping line 296519: Expected 2 fields in line 296519, saw 3\n",
      "Skipping line 296535: Expected 2 fields in line 296535, saw 3\n",
      "Skipping line 313295: Expected 2 fields in line 313295, saw 3\n"
     ]
    }
   ],
   "source": [
    "corpus = pd.read_csv(\n",
    "    'news-commentary-v14.en-zh.tsv', \n",
    "    sep='\\t', \n",
    "    error_bad_lines=False,\n",
    "    skipfooter= 1,\n",
    "    header = None,\n",
    ")"
   ]
  },
  {
   "cell_type": "code",
   "execution_count": 4,
   "id": "17c361d0",
   "metadata": {},
   "outputs": [],
   "source": [
    "en = corpus[0].to_numpy(dtype = str)\n",
    "zh = corpus[1].to_numpy(dtype = str)"
   ]
  },
  {
   "cell_type": "code",
   "execution_count": 5,
   "id": "d0304eea",
   "metadata": {},
   "outputs": [
    {
     "name": "stdout",
     "output_type": "stream",
     "text": [
      "['1929 or 1989?'\n",
      " 'PARIS – As the economic crisis deepens and widens, the world has been searching for historical analogies to help us understand what has been happening.'\n",
      " 'At the start of the crisis, many people likened it to 1982 or 1973, which was reassuring, because both dates refer to classical cyclical downturns.'\n",
      " 'Today, the mood is much grimmer, with references to 1929 and 1931 beginning to abound, even if some governments continue to behave as if the crisis was more classical than exceptional.'\n",
      " 'The tendency is either excessive restraint (Europe) or a diffusion of the effort (the United States).']\n"
     ]
    }
   ],
   "source": [
    "print(en[:5])"
   ]
  },
  {
   "cell_type": "code",
   "execution_count": 6,
   "id": "da5a1ee1",
   "metadata": {},
   "outputs": [
    {
     "name": "stdout",
     "output_type": "stream",
     "text": [
      "['1929年还是1989年?' '巴黎-随着经济危机不断加深和蔓延，整个世界一直在寻找历史上的类似事件希望有助于我们了解目前正在发生的情况。'\n",
      " '一开始，很多人把这次危机比作1982年或1973年所发生的情况，这样得类比是令人宽心的，因为这两段时期意味着典型的周期性衰退。'\n",
      " '如今人们的心情却是沉重多了，许多人开始把这次危机与1929年和1931年相比，即使一些国家政府的表现仍然似乎把视目前的情况为是典型的而看见的衰退。'\n",
      " '目前的趋势是，要么是过度的克制（欧洲 ） ， 要么是努力的扩展（美国 ） 。']\n"
     ]
    }
   ],
   "source": [
    "print(zh[:5])"
   ]
  },
  {
   "cell_type": "markdown",
   "id": "214b9829",
   "metadata": {},
   "source": [
    "# Tokenize"
   ]
  },
  {
   "cell_type": "markdown",
   "id": "4675becd",
   "metadata": {},
   "source": [
    "## English"
   ]
  },
  {
   "cell_type": "markdown",
   "id": "763e2226",
   "metadata": {},
   "source": [
    "### Convert the text into sequences"
   ]
  },
  {
   "cell_type": "code",
   "execution_count": 7,
   "id": "0af12e5f",
   "metadata": {},
   "outputs": [],
   "source": [
    "def seq_reduction(post):\n",
    "    # Initialization\n",
    "    token_stream = [] #control sequence length\n",
    "    de_input  = []\n",
    "    \n",
    "    for p in post:\n",
    "        # Initialize\n",
    "        de_in =  []\n",
    "        # Put BOS, EOS, and PAD\n",
    "        de_in.extend(p)\n",
    "        token_stream.extend(de_in)\n",
    "        de_input.append(de_in)\n",
    "    return token_stream, de_input"
   ]
  },
  {
   "cell_type": "code",
   "execution_count": 8,
   "id": "57d8751d",
   "metadata": {},
   "outputs": [],
   "source": [
    "en_token_stream, en_input = seq_reduction(en)"
   ]
  },
  {
   "cell_type": "code",
   "execution_count": 9,
   "id": "60b8e6af",
   "metadata": {},
   "outputs": [
    {
     "name": "stdout",
     "output_type": "stream",
     "text": [
      "[['1', '9', '2', '9', ' ', 'o', 'r', ' ', '1', '9', '8', '9', '?'], ['P', 'A', 'R', 'I', 'S', ' ', '–', ' ', 'A', 's', ' ', 't', 'h', 'e', ' ', 'e', 'c', 'o', 'n', 'o', 'm', 'i', 'c', ' ', 'c', 'r', 'i', 's', 'i', 's', ' ', 'd', 'e', 'e', 'p', 'e', 'n', 's', ' ', 'a', 'n', 'd', ' ', 'w', 'i', 'd', 'e', 'n', 's', ',', ' ', 't', 'h', 'e', ' ', 'w', 'o', 'r', 'l', 'd', ' ', 'h', 'a', 's', ' ', 'b', 'e', 'e', 'n', ' ', 's', 'e', 'a', 'r', 'c', 'h', 'i', 'n', 'g', ' ', 'f', 'o', 'r', ' ', 'h', 'i', 's', 't', 'o', 'r', 'i', 'c', 'a', 'l', ' ', 'a', 'n', 'a', 'l', 'o', 'g', 'i', 'e', 's', ' ', 't', 'o', ' ', 'h', 'e', 'l', 'p', ' ', 'u', 's', ' ', 'u', 'n', 'd', 'e', 'r', 's', 't', 'a', 'n', 'd', ' ', 'w', 'h', 'a', 't', ' ', 'h', 'a', 's', ' ', 'b', 'e', 'e', 'n', ' ', 'h', 'a', 'p', 'p', 'e', 'n', 'i', 'n', 'g', '.']]\n"
     ]
    }
   ],
   "source": [
    "print(en_input[:2])"
   ]
  },
  {
   "cell_type": "code",
   "execution_count": 10,
   "id": "a0c6b7b1",
   "metadata": {},
   "outputs": [
    {
     "name": "stdout",
     "output_type": "stream",
     "text": [
      "num_of_pairs 314487\n",
      "num_words:199\n"
     ]
    }
   ],
   "source": [
    "print('num_of_pairs',len(en_input))\n",
    "words=list(set(en_token_stream))\n",
    "words.remove(' ')\n",
    "words.append('<bos>')\n",
    "words.append('<eos>')\n",
    "\n",
    "en_word2idx={}\n",
    "en_word2idx[' '] = 0\n",
    "for i, word in enumerate(words):\n",
    "    en_word2idx[word]=i+1\n",
    "en_num_words = len(en_word2idx)\n",
    "print(f\"num_words:{en_num_words}\")\n",
    "en_idx2word = {v:k for k, v in en_word2idx.items()}"
   ]
  },
  {
   "cell_type": "code",
   "execution_count": 11,
   "id": "f5642691",
   "metadata": {},
   "outputs": [],
   "source": [
    "en_seq=[[en_word2idx[t] for t in seq] for seq in en_input]"
   ]
  },
  {
   "cell_type": "markdown",
   "id": "c402f7d2",
   "metadata": {},
   "source": [
    "### Count the average sequence length."
   ]
  },
  {
   "cell_type": "code",
   "execution_count": 12,
   "id": "9418dfcb",
   "metadata": {
    "scrolled": true
   },
   "outputs": [
    {
     "name": "stdout",
     "output_type": "stream",
     "text": [
      "134.79737159246645\n",
      "71.46306078397407\n"
     ]
    }
   ],
   "source": [
    "en_seq_len = [len(s) for s in en_seq]\n",
    "print(np.mean(en_seq_len))\n",
    "print(np.std(en_seq_len))"
   ]
  },
  {
   "cell_type": "code",
   "execution_count": 13,
   "id": "7361eb7b",
   "metadata": {},
   "outputs": [
    {
     "name": "stdout",
     "output_type": "stream",
     "text": [
      "Length of en: 206\n"
     ]
    }
   ],
   "source": [
    "en_seq_length = round(np.mean(en_seq_len)+np.std(en_seq_len))\n",
    "print(f'Length of en: {en_seq_length}')"
   ]
  },
  {
   "cell_type": "markdown",
   "id": "b4769f39",
   "metadata": {},
   "source": [
    "## Chinese"
   ]
  },
  {
   "cell_type": "code",
   "execution_count": 14,
   "id": "8c2dc21b",
   "metadata": {},
   "outputs": [],
   "source": [
    "zh_token_stream, zh_input = seq_reduction(zh)"
   ]
  },
  {
   "cell_type": "code",
   "execution_count": 15,
   "id": "321655ab",
   "metadata": {},
   "outputs": [
    {
     "name": "stdout",
     "output_type": "stream",
     "text": [
      "[['1', '9', '2', '9', '年', '还', '是', '1', '9', '8', '9', '年', '?'], ['巴', '黎', '-', '随', '着', '经', '济', '危', '机', '不', '断', '加', '深', '和', '蔓', '延', '，', '整', '个', '世', '界', '一', '直', '在', '寻', '找', '历', '史', '上', '的', '类', '似', '事', '件', '希', '望', '有', '助', '于', '我', '们', '了', '解', '目', '前', '正', '在', '发', '生', '的', '情', '况', '。']]\n"
     ]
    }
   ],
   "source": [
    "print(zh_input[:2])"
   ]
  },
  {
   "cell_type": "code",
   "execution_count": 16,
   "id": "aa374108",
   "metadata": {},
   "outputs": [
    {
     "name": "stdout",
     "output_type": "stream",
     "text": [
      "num_of_pairs 314487\n",
      "num_words:4716\n"
     ]
    }
   ],
   "source": [
    "print('num_of_pairs',len(zh_input))\n",
    "words=list(set(zh_token_stream))\n",
    "words.remove(' ')\n",
    "\n",
    "zh_word2idx={}\n",
    "zh_word2idx[' ']=0\n",
    "for i, word in enumerate(words):\n",
    "    zh_word2idx[word]=i+1\n",
    "zh_num_words = len(zh_word2idx)\n",
    "print(f\"num_words:{zh_num_words}\")\n",
    "zh_idx2word = {v:k for k, v in zh_word2idx.items()}"
   ]
  },
  {
   "cell_type": "code",
   "execution_count": 17,
   "id": "d8d04fc0",
   "metadata": {},
   "outputs": [],
   "source": [
    "zh_seq=[[zh_word2idx[t] for t in seq] for seq in zh_input]"
   ]
  },
  {
   "cell_type": "markdown",
   "id": "fb887016",
   "metadata": {},
   "source": [
    "### Count the average sequence length."
   ]
  },
  {
   "cell_type": "code",
   "execution_count": 18,
   "id": "44bdeead",
   "metadata": {},
   "outputs": [
    {
     "name": "stdout",
     "output_type": "stream",
     "text": [
      "41.59374155370492\n",
      "23.273498491636335\n"
     ]
    }
   ],
   "source": [
    "zh_seq_len = [len(s) for s in zh_seq]\n",
    "print(np.mean(zh_seq_len))\n",
    "print(np.std(zh_seq_len))"
   ]
  },
  {
   "cell_type": "code",
   "execution_count": 19,
   "id": "10801b36",
   "metadata": {},
   "outputs": [
    {
     "name": "stdout",
     "output_type": "stream",
     "text": [
      "Length of en: 65\n"
     ]
    }
   ],
   "source": [
    "zh_seq_length = round(np.mean(zh_seq_len)+np.std(zh_seq_len))\n",
    "print(f'Length of en: {zh_seq_length}')"
   ]
  },
  {
   "cell_type": "markdown",
   "id": "204367c8",
   "metadata": {},
   "source": [
    "# Remove long sentences"
   ]
  },
  {
   "cell_type": "code",
   "execution_count": 20,
   "id": "f23e338b",
   "metadata": {
    "scrolled": true
   },
   "outputs": [
    {
     "name": "stdout",
     "output_type": "stream",
     "text": [
      "245599\n"
     ]
    }
   ],
   "source": [
    "keep = [[zh, en] for zh, en in zip(zh_seq, en_seq) \n",
    "            if len(zh)<=zh_seq_length and len(zh) > 5 and len(en)<=en_seq_length\n",
    "       ]\n",
    "print(len(keep))"
   ]
  },
  {
   "cell_type": "markdown",
   "id": "54dfd86b",
   "metadata": {},
   "source": [
    "# Add BOS and EOS into decoder"
   ]
  },
  {
   "cell_type": "code",
   "execution_count": 21,
   "id": "3b0e8584",
   "metadata": {},
   "outputs": [],
   "source": [
    "zh_reduce_seq = [pair[0] for pair in keep]\n",
    "en_reduce_seq = [pair[1] for pair in keep]\n",
    "bosIdx = en_word2idx['<bos>']\n",
    "eosIdx = en_word2idx['<eos>']\n",
    "for i, seq in enumerate(en_reduce_seq):\n",
    "    en_reduce_seq[i] = [bosIdx]\n",
    "    en_reduce_seq[i].extend(seq)\n",
    "    en_reduce_seq[i].append(eosIdx)"
   ]
  },
  {
   "cell_type": "markdown",
   "id": "4963e195",
   "metadata": {},
   "source": [
    "# Padding"
   ]
  },
  {
   "cell_type": "code",
   "execution_count": 22,
   "id": "d5f8ac81",
   "metadata": {},
   "outputs": [],
   "source": [
    "en_pad_seq = tf.keras.preprocessing.sequence.pad_sequences(\n",
    "    en_reduce_seq,\n",
    "    dtype='int32',\n",
    "    padding='post',\n",
    ")"
   ]
  },
  {
   "cell_type": "code",
   "execution_count": 23,
   "id": "c9eff0ba",
   "metadata": {},
   "outputs": [
    {
     "name": "stdout",
     "output_type": "stream",
     "text": [
      "(245599, 208)\n"
     ]
    }
   ],
   "source": [
    "print(en_pad_seq.shape)"
   ]
  },
  {
   "cell_type": "code",
   "execution_count": 24,
   "id": "8a4fd3de",
   "metadata": {},
   "outputs": [],
   "source": [
    "zh_pad_seq = tf.keras.preprocessing.sequence.pad_sequences(\n",
    "    zh_reduce_seq,\n",
    "    dtype='int32',\n",
    "    padding='post',\n",
    ")"
   ]
  },
  {
   "cell_type": "code",
   "execution_count": 25,
   "id": "85e4afa0",
   "metadata": {
    "scrolled": false
   },
   "outputs": [
    {
     "name": "stdout",
     "output_type": "stream",
     "text": [
      "(245599, 65)\n"
     ]
    }
   ],
   "source": [
    "print(zh_pad_seq.shape)"
   ]
  },
  {
   "cell_type": "markdown",
   "id": "609f64c5",
   "metadata": {},
   "source": [
    "# Distribute"
   ]
  },
  {
   "cell_type": "code",
   "execution_count": 26,
   "id": "9ab31f61",
   "metadata": {},
   "outputs": [],
   "source": [
    "num_pair = len(en_pad_seq)\n",
    "encoder_train = zh_pad_seq[int(num_pair*0.1):]\n",
    "decoder_train = en_pad_seq[int(num_pair*0.1):, :-1]\n",
    "teacher_train = en_pad_seq[int(num_pair*0.1):, 1:]\n",
    "encoder_vali  = zh_pad_seq[:int(num_pair*0.1)]\n",
    "decoder_vali  = en_pad_seq[:int(num_pair*0.1), :-1]\n",
    "teacher_vali  = en_pad_seq[:int(num_pair*0.1), 1:]"
   ]
  },
  {
   "cell_type": "code",
   "execution_count": 27,
   "id": "014863ce",
   "metadata": {},
   "outputs": [
    {
     "name": "stdout",
     "output_type": "stream",
     "text": [
      "(221040, 65)\n",
      "(221040, 207)\n",
      "(221040, 207)\n"
     ]
    }
   ],
   "source": [
    "print(encoder_train.shape)\n",
    "print(decoder_train.shape)\n",
    "print(teacher_train.shape)"
   ]
  },
  {
   "cell_type": "markdown",
   "id": "2dad772b",
   "metadata": {},
   "source": [
    "# Word2Vec"
   ]
  },
  {
   "cell_type": "markdown",
   "id": "a6f68d04",
   "metadata": {},
   "source": [
    "## 32 dim. English embedding "
   ]
  },
  {
   "cell_type": "code",
   "execution_count": 30,
   "id": "827168d1",
   "metadata": {},
   "outputs": [
    {
     "data": {
      "text/plain": [
       "(92130499, 430209950)"
      ]
     },
     "execution_count": 30,
     "metadata": {},
     "output_type": "execute_result"
    }
   ],
   "source": [
    "bosIdx = en_word2idx['<bos>']\n",
    "eosIdx = en_word2idx['<eos>']\n",
    "tmp = []\n",
    "for i, seq in enumerate(en_seq):\n",
    "    tmp.append([])\n",
    "    tmp[i] = [bosIdx]\n",
    "    tmp[i].extend(seq)\n",
    "    tmp[i].append(eosIdx)\n",
    "\n",
    "model = Word2Vec(\n",
    "    sentences=tmp, \n",
    "    vector_size=32, \n",
    "    window=5, \n",
    "    min_count=1, \n",
    "    workers=16,\n",
    "    sg = 1,\n",
    "    negative = 10,\n",
    ")\n",
    "model.build_vocab(tmp)\n",
    "model.train(tmp, total_examples=model.corpus_count, epochs=10)"
   ]
  },
  {
   "cell_type": "code",
   "execution_count": 31,
   "id": "ec511583",
   "metadata": {},
   "outputs": [
    {
     "data": {
      "text/plain": [
       "array([-0.45359987,  1.9887191 ,  0.59196424,  0.04850034, -0.11136319,\n",
       "        1.045833  ,  0.0325858 ,  0.921646  , -0.1453513 , -0.29940316,\n",
       "       -0.13449323,  0.08392815, -0.19487256, -0.3319154 , -0.05449354,\n",
       "        0.5141277 ,  0.86144334, -0.25267354,  0.58859575, -0.41372308,\n",
       "        0.19209178, -0.13207915,  0.2859081 ,  0.71193624, -0.19737837,\n",
       "       -0.5219248 , -0.44954288, -0.54669255,  0.6119101 ,  0.06045213,\n",
       "        0.3184272 ,  0.14369203], dtype=float32)"
      ]
     },
     "execution_count": 31,
     "metadata": {},
     "output_type": "execute_result"
    }
   ],
   "source": [
    "model.wv[198]"
   ]
  },
  {
   "cell_type": "code",
   "execution_count": 32,
   "id": "9d21f80d",
   "metadata": {},
   "outputs": [],
   "source": [
    "en_emb32 = np.array([ model.wv[i] for i in range(en_num_words)])"
   ]
  },
  {
   "cell_type": "markdown",
   "id": "1d5840e8",
   "metadata": {},
   "source": [
    "## 32 dim. Chinese embedding"
   ]
  },
  {
   "cell_type": "code",
   "execution_count": 33,
   "id": "44851db9",
   "metadata": {},
   "outputs": [
    {
     "data": {
      "text/plain": [
       "(109351746, 130806910)"
      ]
     },
     "execution_count": 33,
     "metadata": {},
     "output_type": "execute_result"
    }
   ],
   "source": [
    "tmp = [list(e) for e in zh_seq]\n",
    "model = Word2Vec(\n",
    "    sentences=tmp, \n",
    "    vector_size=32, \n",
    "    window=5, \n",
    "    min_count=1, \n",
    "    workers=16,\n",
    "    sg = 1,\n",
    "    negative = 10,\n",
    ")\n",
    "model.build_vocab(tmp)\n",
    "model.train(tmp, total_examples=model.corpus_count, epochs=10)"
   ]
  },
  {
   "cell_type": "code",
   "execution_count": 34,
   "id": "d0a08f74",
   "metadata": {},
   "outputs": [],
   "source": [
    "zh_emb32 = np.array([ model.wv[i] for i in range(zh_num_words)])"
   ]
  },
  {
   "cell_type": "code",
   "execution_count": 35,
   "id": "bdc99de7",
   "metadata": {},
   "outputs": [
    {
     "name": "stdout",
     "output_type": "stream",
     "text": [
      "垢\n"
     ]
    }
   ],
   "source": [
    "print(zh_idx2word[4692])"
   ]
  },
  {
   "cell_type": "markdown",
   "id": "5417521a",
   "metadata": {},
   "source": [
    "# Save preprocessed data"
   ]
  },
  {
   "cell_type": "code",
   "execution_count": 36,
   "id": "379fcd57",
   "metadata": {},
   "outputs": [],
   "source": [
    "pickle.dump(encoder_train, open(f'{folder_name}/encoder_train.pkl','wb'))\n",
    "pickle.dump(decoder_train, open(f'{folder_name}/decoder_train.pkl','wb'))\n",
    "pickle.dump(teacher_train, open(f'{folder_name}/teacher_train.pkl','wb'))\n",
    "pickle.dump(encoder_vali,  open(f'{folder_name}/encoder_vali.pkl','wb'))\n",
    "pickle.dump(decoder_vali,  open(f'{folder_name}/decoder_vali.pkl','wb'))\n",
    "pickle.dump(teacher_vali,  open(f'{folder_name}/teacher_vali.pkl','wb'))\n",
    "\n",
    "pickle.dump(en_idx2word, open(f'{folder_name}/en_idx2word.pkl','wb'))\n",
    "pickle.dump(en_word2idx, open(f'{folder_name}/en_word2idx.pkl','wb'))\n",
    "pickle.dump(zh_idx2word, open(f'{folder_name}/zh_idx2word.pkl','wb'))\n",
    "pickle.dump(zh_word2idx, open(f'{folder_name}/zh_word2idx.pkl','wb'))\n",
    "\n",
    "pickle.dump(en_emb32, open(f'{folder_name}/en_emb32.pkl','wb'))\n",
    "pickle.dump(zh_emb32, open(f'{folder_name}/zh_emb32.pkl','wb'))"
   ]
  },
  {
   "cell_type": "markdown",
   "id": "f3a5598b",
   "metadata": {},
   "source": [
    "# Load data"
   ]
  },
  {
   "cell_type": "code",
   "execution_count": 37,
   "id": "6bbb31af",
   "metadata": {},
   "outputs": [],
   "source": [
    "encoder_train = pickle.load(open(f'{folder_name}/encoder_train.pkl', 'rb'))\n",
    "decoder_train = pickle.load(open(f'{folder_name}/decoder_train.pkl', 'rb'))\n",
    "teacher_train = pickle.load(open(f'{folder_name}/teacher_train.pkl', 'rb'))\n",
    "encoder_vali  = pickle.load(open(f'{folder_name}/encoder_vali.pkl', 'rb'))\n",
    "decoder_vali  = pickle.load(open(f'{folder_name}/decoder_vali.pkl', 'rb'))\n",
    "teacher_vali  = pickle.load(open(f'{folder_name}/teacher_vali.pkl', 'rb'))\n",
    "\n",
    "en_idx2word   = pickle.load(open(f'{folder_name}/en_idx2word.pkl','rb'))\n",
    "en_word2idx   = pickle.load(open(f'{folder_name}/en_word2idx.pkl','rb'))\n",
    "zh_idx2word   = pickle.load(open(f'{folder_name}/zh_idx2word.pkl','rb'))\n",
    "zh_word2idx   = pickle.load(open(f'{folder_name}/zh_word2idx.pkl','rb'))\n",
    "\n",
    "en_emb32  = pickle.load(open(f'{folder_name}/en_emb32.pkl', 'rb'))\n",
    "zh_emb32 = pickle.load(open(f'{folder_name}/zh_emb32.pkl', 'rb'))"
   ]
  },
  {
   "cell_type": "code",
   "execution_count": 38,
   "id": "e93cbab1",
   "metadata": {},
   "outputs": [
    {
     "name": "stdout",
     "output_type": "stream",
     "text": [
      "拘\n"
     ]
    }
   ],
   "source": [
    "print(zh_idx2word[3742])"
   ]
  },
  {
   "cell_type": "code",
   "execution_count": 39,
   "id": "0ade6c4c",
   "metadata": {},
   "outputs": [],
   "source": [
    "def seq2word(seq_tensor, idx2word):\n",
    "    return np.array([[idx2word[i] for i in seq] for seq in seq_tensor])"
   ]
  },
  {
   "cell_type": "code",
   "execution_count": 40,
   "id": "8aae83d2",
   "metadata": {},
   "outputs": [
    {
     "data": {
      "text/plain": [
       "array([['<bos>', 'E', 'v', 'e', 'n', ' ', 'm', 'o', 'r', 'e', ' ', 't',\n",
       "        'o', ' ', 't', 'h', 'e', ' ', 'p', 'o', 'i', 'n', 't', ',', ' ',\n",
       "        'p', 'o', 'l', 'i', 'c', 'y', 'm', 'a', 'k', 'e', 'r', 's', ' ',\n",
       "        'n', 'e', 'e', 'd', ' ', 't', 'o', ' ', 'a', 'd', 'd', 'r', 'e',\n",
       "        's', 's', ' ', 't', 'h', 'e', ' ', 'f', 'i', 'n', 'a', 'n', 'c',\n",
       "        'i', 'a', 'l', 'i', 'z', 'a', 't', 'i', 'o', 'n', ' ', 'o', 'f',\n",
       "        ' ', 't', 'h', 'e', ' ', 'p', 'h', 'a', 'r', 'm', 'a', 'c', 'e',\n",
       "        'u', 't', 'i', 'c', 'a', 'l', ' ', 'i', 'n', 'd', 'u', 's', 't',\n",
       "        'r', 'y', ',', ' ', 'w', 'h', 'i', 'c', 'h', ' ', 'i', 's', ' ',\n",
       "        'f', 'o', 'c', 'u', 's', 'e', 'd', ' ', 's', 'o', 'l', 'e', 'l',\n",
       "        'y', ' ', 'o', 'n', ' ', 's', 'h', 'a', 'r', 'e', 'h', 'o', 'l',\n",
       "        'd', 'e', 'r', ' ', 'v', 'a', 'l', 'u', 'e', ',', ' ', 'r', 'a',\n",
       "        't', 'h', 'e', 'r', ' ', 't', 'h', 'a', 'n', ' ', 'o', 'n', ' ',\n",
       "        'a', 'l', 'l', ' ', 's', 't', 'a', 'k', 'e', 'h', 'o', 'l', 'd',\n",
       "        'e', 'r', 's', '.', '<eos>', ' ', ' ', ' ', ' ', ' ', ' ', ' ',\n",
       "        ' ', ' ', ' ', ' ', ' ', ' ', ' ', ' ', ' ', ' ', ' ', ' ', ' ',\n",
       "        ' ']], dtype='<U5')"
      ]
     },
     "execution_count": 40,
     "metadata": {},
     "output_type": "execute_result"
    }
   ],
   "source": [
    "seq2word(decoder_train[5:6], en_idx2word)"
   ]
  },
  {
   "cell_type": "code",
   "execution_count": null,
   "id": "2d5ac9d2",
   "metadata": {},
   "outputs": [],
   "source": []
  }
 ],
 "metadata": {
  "kernelspec": {
   "display_name": "Python 3 (ipykernel)",
   "language": "python",
   "name": "python3"
  },
  "language_info": {
   "codemirror_mode": {
    "name": "ipython",
    "version": 3
   },
   "file_extension": ".py",
   "mimetype": "text/x-python",
   "name": "python",
   "nbconvert_exporter": "python",
   "pygments_lexer": "ipython3",
   "version": "3.9.6"
  }
 },
 "nbformat": 4,
 "nbformat_minor": 5
}
